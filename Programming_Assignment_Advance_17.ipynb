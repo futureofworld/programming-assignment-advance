{
  "nbformat": 4,
  "nbformat_minor": 0,
  "metadata": {
    "colab": {
      "name": "Programming_Assignment_Advance_17.ipynb",
      "provenance": [],
      "authorship_tag": "ABX9TyObKrsgMAbzE3ZWN2e/vLL6"
    },
    "kernelspec": {
      "name": "python3",
      "display_name": "Python 3"
    },
    "language_info": {
      "name": "python"
    }
  },
  "cells": [
    {
      "cell_type": "markdown",
      "source": [
        "Q1. Create a function that transposes a 2D matrix.\n",
        "\n",
        "Examples\n",
        "\n",
        "transpose_matrix([\n",
        "[1, 1, 1],\n",
        "[2, 2, 2],\n",
        "[3, 3, 3]\n",
        "]) ➞ [\n",
        "[1, 2, 3],\n",
        "[1, 2, 3],\n",
        "[1, 2, 3]\n",
        "]\n",
        "\n",
        "transpose_matrix([\n",
        "[5, 5],\n",
        "[6, 7],\n",
        "[9, 1]\n",
        "]) ➞ [\n",
        "[5, 6, 9],\n",
        "[5, 7, 1]\n",
        "]"
      ],
      "metadata": {
        "id": "k7F6Yjdb7QJM"
      }
    },
    {
      "cell_type": "code",
      "execution_count": 1,
      "metadata": {
        "colab": {
          "base_uri": "https://localhost:8080/"
        },
        "id": "a-kr7Me07PT1",
        "outputId": "5bfeaf94-750c-43bc-8279-08ac298ed76a"
      },
      "outputs": [
        {
          "output_type": "stream",
          "name": "stdout",
          "text": [
            "[[1, 2, 3], [1, 2, 3], [1, 2, 3]]\n",
            "[[5, 6, 9], [5, 7, 1]]\n"
          ]
        }
      ],
      "source": [
        "def transpose_matrix(lst):\n",
        "    trans = []\n",
        "    for i in range(len(lst[0])):\n",
        "        new_lst = []\n",
        "        for j in range(len(lst)):\n",
        "            new_lst.append(lst[j][i])\n",
        "        trans.append(new_lst)\n",
        "    print(trans)\n",
        "\n",
        "transpose_matrix([ [1, 1, 1], [2, 2, 2], [3, 3, 3] ])\n",
        "transpose_matrix([ [5, 5], [6, 7], [9, 1] ])"
      ]
    },
    {
      "cell_type": "markdown",
      "source": [
        "Q2. Create a function that determines whether a string is a valid hex code.\n",
        "A hex code must begin with a pound key # and is exactly 6 characters in\n",
        "length. Each character must be a digit from 0-9 or an alphabetic character\n",
        "from A-F. All alphabetic characters may be uppercase or lowercase.\n",
        "\n",
        "Examples\n",
        "\n",
        "is_valid_hex_code(&quot;#CD5C5C&quot;) ➞ True\n",
        "\n",
        "is_valid_hex_code(&quot;#EAECEE&quot;) ➞ True\n",
        "\n",
        "is_valid_hex_code(&quot;#eaecee&quot;) ➞ True\n",
        "\n",
        "is_valid_hex_code(&quot;#CD5C58C&quot;) ➞ False\n",
        "\n",
        "Length exceeds 6\n",
        "\n",
        "is_valid_hex_code(&quot;#CD5C5Z&quot;) ➞ False\n",
        "\n",
        "Not all alphabetic characters in A-F\n",
        "\n",
        "is_valid_hex_code(&quot;#CD5C&amp;C&quot;) ➞ False\n",
        "\n",
        " Contains unacceptable character\n",
        "\n",
        "is_valid_hex_code(&quot;CD5C5C&quot;) ➞ False\n",
        "\n",
        "Missing "
      ],
      "metadata": {
        "id": "BEf2ZsK_7Woq"
      }
    },
    {
      "cell_type": "code",
      "source": [
        "import re\n",
        "def is_valid_hex_code(hex):\n",
        "    if re.findall('^#[A-Fa-f0-9]{6}$', hex):\n",
        "        print(True)\n",
        "    else:\n",
        "        print(False)\n",
        "\n",
        "is_valid_hex_code(\"#CD5C5C\")\n",
        "is_valid_hex_code(\"#EAECEE\")\n",
        "is_valid_hex_code(\"#eaecee\")\n",
        "is_valid_hex_code(\"#CD5C58C\")\n",
        "is_valid_hex_code(\"#CD5C5Z\")\n",
        "is_valid_hex_code(\"#CD5C&C\")\n",
        "is_valid_hex_code(\"CD5C5C\")"
      ],
      "metadata": {
        "colab": {
          "base_uri": "https://localhost:8080/"
        },
        "id": "Xvs6bsDB7fF9",
        "outputId": "8e31677d-1306-4d06-bb61-7c266f9f2d14"
      },
      "execution_count": 2,
      "outputs": [
        {
          "output_type": "stream",
          "name": "stdout",
          "text": [
            "True\n",
            "True\n",
            "True\n",
            "False\n",
            "False\n",
            "False\n",
            "False\n"
          ]
        }
      ]
    },
    {
      "cell_type": "markdown",
      "source": [
        "Q3. Given a list of math equations (given as strings), return the percentage of\n",
        "correct answers as a string. Round to the nearest whole number.\n",
        "\n",
        "Examples\n",
        "\n",
        "mark_maths([&quot;2+2=4&quot;, &quot;3+2=5&quot;, &quot;10-3=3&quot;, &quot;5+5=10&quot;]) ➞ &quot;75%&quot;\n",
        "\n",
        "mark_maths([&quot;1-2=-2&quot;]), &quot;0%&quot;\n",
        "\n",
        "mark_maths([&quot;2+3=5&quot;, &quot;4+4=9&quot;, &quot;3-1=2&quot;]) ➞ &quot;67%&quot;"
      ],
      "metadata": {
        "id": "o4_3Rp6x7h6E"
      }
    },
    {
      "cell_type": "code",
      "source": [
        "def mark_maths(lst):\n",
        "    math_mark = 0\n",
        "    for i in lst:\n",
        "        question = i.split('=')\n",
        "        if eval(question[0]) == int(question[1]):\n",
        "            math_mark += 100\n",
        "    math_per = round(math_mark/len(lst))\n",
        "    print(f'{math_per}%')\n",
        "\n",
        "mark_maths([\"2+2=4\", \"3+2=5\", \"10-3=3\", \"5+5=10\"])\n",
        "mark_maths([\"1-2=-2\"])\n",
        "mark_maths([\"2+3=5\", \"4+4=9\", \"3-1=2\"])"
      ],
      "metadata": {
        "colab": {
          "base_uri": "https://localhost:8080/"
        },
        "id": "KtD66XDR7mVz",
        "outputId": "1785c48c-c920-429a-f23e-03b63cc9a196"
      },
      "execution_count": 3,
      "outputs": [
        {
          "output_type": "stream",
          "name": "stdout",
          "text": [
            "75%\n",
            "0%\n",
            "67%\n"
          ]
        }
      ]
    },
    {
      "cell_type": "markdown",
      "source": [
        "Q4. There are two players, Alice and Bob, each with a 3-by-3 grid. A referee\n",
        "tells Alice to fill out one particular row in the grid (say the second row) by\n",
        "putting either a 1 or a 0 in each box, such that the sum of the numbers in that\n",
        "row is odd. The referee tells Bob to fill out one column in the grid (say the first\n",
        "column) by putting either a 1 or a 0 in each box, such that the sum of the\n",
        "numbers in that column is even.\n",
        "Alice and Bob win the game if Alice’s numbers give an odd sum, Bob’s give\n",
        "an even sum, and (most important) they’ve each written down the same\n",
        "number in the one square where their row and column intersect.\n",
        "\n",
        "Examples\n",
        "\n",
        "magic_square_game([2, &quot;100&quot;], [1, &quot;101&quot;]) ➞ False\n",
        "\n",
        "magic_square_game([2, &quot;001&quot;], [1, &quot;101&quot;]) ➞ True\n",
        "\n",
        "magic_square_game([3, &quot;111&quot;], [2, &quot;011&quot;]) ➞ True\n",
        "\n",
        "magic_square_game([1, &quot;010&quot;], [3, &quot;101&quot;]) ➞ False\n",
        "\n",
        "Two lists, Alice [row, &quot;her choice&quot;], Bob [column, &quot;his choice&quot;]"
      ],
      "metadata": {
        "id": "adaaZYk27mp0"
      }
    },
    {
      "cell_type": "code",
      "source": [
        "def magic_square_game(alice,bob):\n",
        "    sqr = [[0,0,0],[0,0,0],[0,0,0]]\n",
        "    for i in range(3):\n",
        "        sqr[alice[0]-1][i] = int(alice[1][i])\n",
        "    for i in range(3):\n",
        "        if i+1 == alice[0] and sqr[i][bob[0]-1] == int(bob[1][i]):\n",
        "            print(True)\n",
        "            return\n",
        "    print(False)\n",
        "\n",
        "magic_square_game([2, \"100\"], [1, \"101\"])\n",
        "magic_square_game([2, \"001\"], [1, \"101\"])\n",
        "magic_square_game([3, \"111\"], [2, \"011\"])\n",
        "magic_square_game([1, \"010\"], [3, \"101\"])"
      ],
      "metadata": {
        "colab": {
          "base_uri": "https://localhost:8080/"
        },
        "id": "cJ7yRPF07sbT",
        "outputId": "e55d066d-49f0-4dcb-ad7d-feae31fad8c5"
      },
      "execution_count": 4,
      "outputs": [
        {
          "output_type": "stream",
          "name": "stdout",
          "text": [
            "False\n",
            "True\n",
            "True\n",
            "False\n"
          ]
        }
      ]
    },
    {
      "cell_type": "markdown",
      "source": [
        "Q5. From point A, an object is moving towards point B at constant velocity va\n",
        "(in km/hr). From point B, another object is moving towards point A at constant\n",
        "velocity vb (in km/hr). Knowing this and the distance between point A and B\n",
        "(in km), write a function that returns how much time passes until both objects\n",
        "meet.\n",
        "Format the output like this:\n",
        "\n",
        "&quot;2h 23min 34s&quot;\n",
        "\n",
        "Examples\n",
        "\n",
        "lets_meet(100, 10, 30) ➞ &quot;2h 30min 0s&quot;\n",
        "\n",
        "lets_meet(280, 70, 80) ➞ &quot;1h 52min 0s&quot;\n",
        "\n",
        "lets_meet(90, 75, 65) ➞ &quot;0h 38min 34s&quot;"
      ],
      "metadata": {
        "id": "WEV77UZ67spL"
      }
    },
    {
      "cell_type": "code",
      "source": [
        "def lets_meet(x,va,vb):\n",
        "    t = (x*3600)/(va+vb)\n",
        "    hour= t//3600\n",
        "    min = (t%3600)//60\n",
        "    sec = (t%3600)%60\n",
        "    print(f'{(hour):.0f}h {(min):.0f}min {(sec):.0f}s')\n",
        "\n",
        "lets_meet(100, 10, 30)\n",
        "lets_meet(280, 70, 80)\n",
        "lets_meet(90, 75, 65)"
      ],
      "metadata": {
        "colab": {
          "base_uri": "https://localhost:8080/"
        },
        "id": "BwD3Vm2e7v7V",
        "outputId": "a3d260a9-193f-4b2c-d276-179d0609f32c"
      },
      "execution_count": 5,
      "outputs": [
        {
          "output_type": "stream",
          "name": "stdout",
          "text": [
            "2h 30min 0s\n",
            "1h 52min 0s\n",
            "0h 38min 34s\n"
          ]
        }
      ]
    }
  ]
}