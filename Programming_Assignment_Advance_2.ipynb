{
  "nbformat": 4,
  "nbformat_minor": 0,
  "metadata": {
    "colab": {
      "name": "Programming_Assignment_Advance_2.ipynb",
      "provenance": [],
      "collapsed_sections": [],
      "authorship_tag": "ABX9TyO9crs7cj2lUuBv8EWEeeiA"
    },
    "kernelspec": {
      "name": "python3",
      "display_name": "Python 3"
    },
    "language_info": {
      "name": "python"
    }
  },
  "cells": [
    {
      "cell_type": "markdown",
      "source": [
        "Q1. Write a function that takes a positive integer num and calculates how many\n",
        "dots exist in a pentagonal shape around the center dot on the Nth iteration.\n",
        "\n",
        "In the image below you can see the first iteration is only a single dot. On the\n",
        "second, there are 6 dots. On the third, there are 16 dots, and on the fourth\n",
        "there are 31 dots.\n",
        "\n",
        "Return the number of dots that exist in the whole pentagon on the Nth\n",
        "iteration.\n",
        "\n",
        "Examples\n",
        "\n",
        "pentagonal(1) ➞ 1\n",
        "\n",
        "pentagonal(2) ➞ 6\n",
        "\n",
        "pentagonal(3) ➞ 16\n",
        "\n",
        "pentagonal(8) ➞ 141"
      ],
      "metadata": {
        "id": "8zubYxMSjeLS"
      }
    },
    {
      "cell_type": "code",
      "execution_count": 1,
      "metadata": {
        "colab": {
          "base_uri": "https://localhost:8080/"
        },
        "id": "dsvocWkIjcYk",
        "outputId": "91716efd-8ad1-4abf-b786-d5a03983f696"
      },
      "outputs": [
        {
          "output_type": "stream",
          "name": "stdout",
          "text": [
            "1\n",
            "6\n",
            "16\n",
            "141\n"
          ]
        }
      ],
      "source": [
        "def pentagonal(num):\n",
        "    dot = 1\n",
        "    for i in range(num):\n",
        "        dot += i * 5\n",
        "    print(dot)\n",
        "\n",
        "pentagonal(1)\n",
        "pentagonal(2)\n",
        "pentagonal(3)\n",
        "pentagonal(8)"
      ]
    },
    {
      "cell_type": "markdown",
      "source": [
        "Q2. Make a function that encrypts a given input with these steps:\n",
        "\n",
        "Input: &quot;apple&quot;\n",
        "\n",
        "Step 1: Reverse the input: &quot;elppa&quot;\n",
        "\n",
        "Step 2: Replace all vowels using the following chart:\n",
        "\n",
        "a =&gt; 0\n",
        "\n",
        "e =&gt; 1\n",
        "\n",
        "i =&gt; 2\n",
        "\n",
        "o =&gt; 2\n",
        "\n",
        "u =&gt; 3\n",
        "\n",
        "&quot;1lpp0&quot;\n",
        "\n",
        "Step 3: Add &quot;aca&quot; to the end of the word: &quot;1lpp0aca&quot;\n",
        "\n",
        "Output: &quot;1lpp0aca&quot;\n",
        "\n",
        "Examples\n",
        "\n",
        "encrypt(&quot;banana&quot;) ➞ &quot;0n0n0baca&quot;\n",
        "\n",
        "encrypt(&quot;karaca&quot;) ➞ &quot;0c0r0kaca&quot;\n",
        "\n",
        "encrypt(&quot;burak&quot;) ➞ &quot;k0r3baca&quot;\n",
        "\n",
        "encrypt(&quot;alpaca&quot;) ➞ &quot;0c0pl0aca&quot;"
      ],
      "metadata": {
        "id": "Ehttv8wZlQYT"
      }
    },
    {
      "cell_type": "code",
      "source": [
        "def encrypt(string):\n",
        "    vowels = {'a':'0', 'e':'1', 'i':'2' ,'o':'2' ,'u':'3'}\n",
        "    string = string[::-1]\n",
        "    for i in string:\n",
        "        if i in vowels:\n",
        "            string = string.replace(i,vowels[i])\n",
        "\n",
        "    string = string + 'aca'\n",
        "    print(string)\n",
        "\n",
        "encrypt('apple')\n",
        "encrypt(\"banana\")\n",
        "encrypt(\"karaca\")\n",
        "encrypt(\"burak\")\n",
        "encrypt(\"alpaca\")"
      ],
      "metadata": {
        "colab": {
          "base_uri": "https://localhost:8080/"
        },
        "id": "DVoglyqYlUn7",
        "outputId": "1c8fa05b-6a22-49ef-ce33-4f52ccbb7a5b"
      },
      "execution_count": 2,
      "outputs": [
        {
          "output_type": "stream",
          "name": "stdout",
          "text": [
            "1lpp0aca\n",
            "0n0n0baca\n",
            "0c0r0kaca\n",
            "k0r3baca\n",
            "0c0pl0aca\n"
          ]
        }
      ]
    },
    {
      "cell_type": "markdown",
      "source": [
        "Q3. Given the month and year as numbers, return whether that month contains\n",
        "a Friday 13th.(i.e You can check Python&#39;s datetime module)\n",
        "\n",
        "Examples\n",
        "\n",
        "has_friday_13(3, 2020) ➞ True\n",
        "\n",
        "has_friday_13(10, 2017) ➞ True\n",
        "\n",
        "has_friday_13(1, 1985) ➞ False"
      ],
      "metadata": {
        "id": "NZFJ-UpXmq3y"
      }
    },
    {
      "cell_type": "code",
      "source": [
        "import datetime\n",
        "def has_friday_13(month, year):\n",
        "    is_fri = datetime.datetime(year, month, 13)\n",
        "    if is_fri.strftime('%a') == 'Fri':\n",
        "        print(True)\n",
        "    else:\n",
        "        print(False)\n",
        "\n",
        "has_friday_13(3, 2020)\n",
        "has_friday_13(10, 2017)\n",
        "has_friday_13(1, 1985)"
      ],
      "metadata": {
        "colab": {
          "base_uri": "https://localhost:8080/"
        },
        "id": "hMKulgJpmukJ",
        "outputId": "ea192cb8-22d7-4315-99a3-ef370d885108"
      },
      "execution_count": 3,
      "outputs": [
        {
          "output_type": "stream",
          "name": "stdout",
          "text": [
            "True\n",
            "True\n",
            "False\n"
          ]
        }
      ]
    },
    {
      "cell_type": "markdown",
      "source": [
        "Q4. Write a regular expression that will help us count how many bad cookies\n",
        "are produced every day. You must use RegEx negative lookbehind.\n",
        "\n",
        "Example\n",
        "\n",
        "lst = [&quot;bad cookie&quot;, &quot;good cookie&quot;, &quot;bad cookie&quot;, &quot;good cookie&quot;, &quot;good cookie&quot;]\n",
        "\n",
        "pattern = &quot;yourregularexpressionhere&quot;\n",
        "\n",
        "len(re.findall(pattern, &quot;, &quot;.join(lst))) ➞ 2"
      ],
      "metadata": {
        "id": "WdL4ftKAnJmw"
      }
    },
    {
      "cell_type": "code",
      "source": [
        "import re\n",
        "lst = [\"bad cookie\", \"good cookie\", \"bad cookie\", \"good cookie\", \"good cookie\"]\n",
        "pattern = '(?<!good cookie)bad cookie'\n",
        "len(re.findall(pattern,\",\".join(lst)))"
      ],
      "metadata": {
        "colab": {
          "base_uri": "https://localhost:8080/"
        },
        "id": "5AOvFGSqnNqg",
        "outputId": "d06ca44a-5d2c-42bb-db4e-1270752f1af8"
      },
      "execution_count": 4,
      "outputs": [
        {
          "output_type": "execute_result",
          "data": {
            "text/plain": [
              "2"
            ]
          },
          "metadata": {},
          "execution_count": 4
        }
      ]
    },
    {
      "cell_type": "markdown",
      "source": [
        "Q5. Given a list of words in the singular form, return a set of those words in the\n",
        "plural form if they appear more than once in the list.\n",
        "\n",
        "Examples\n",
        "\n",
        "pluralize([&quot;cow&quot;, &quot;pig&quot;, &quot;cow&quot;, &quot;cow&quot;]) ➞ { &quot;cows&quot;, &quot;pig&quot; }\n",
        "\n",
        "pluralize([&quot;table&quot;, &quot;table&quot;, &quot;table&quot;]) ➞ { &quot;tables&quot; }\n",
        "\n",
        "pluralize([&quot;chair&quot;, &quot;pencil&quot;, &quot;arm&quot;]) ➞ { &quot;chair&quot;, &quot;pencil&quot;, &quot;arm&quot; }"
      ],
      "metadata": {
        "id": "1XyUmV-Oo-RP"
      }
    },
    {
      "cell_type": "code",
      "source": [
        "def pluralize(lst):\n",
        "    seen = set()\n",
        "    fst_seen = []\n",
        "    snd_seen = []\n",
        "    for i in lst:\n",
        "        if i not in seen:\n",
        "            seen.add(i)\n",
        "            fst_seen.append(i)\n",
        "        else:\n",
        "            if i+'s' not in snd_seen:\n",
        "                snd_seen.append(i+'s')\n",
        "                fst_seen.remove(i)\n",
        "    plural = fst_seen + snd_seen\n",
        "    print(set(plural))\n",
        "\n",
        "pluralize([\"cow\", \"pig\", \"cow\", \"cow\"])\n",
        "pluralize([\"table\", \"table\", \"table\"])\n",
        "pluralize([\"chair\", \"pencil\", \"arm\"])"
      ],
      "metadata": {
        "colab": {
          "base_uri": "https://localhost:8080/"
        },
        "id": "AGA9e06fpB1G",
        "outputId": "ad7b8aad-86f6-486a-b586-8ac567fec629"
      },
      "execution_count": 5,
      "outputs": [
        {
          "output_type": "stream",
          "name": "stdout",
          "text": [
            "{'pig', 'cows'}\n",
            "{'tables'}\n",
            "{'pencil', 'arm', 'chair'}\n"
          ]
        }
      ]
    }
  ]
}