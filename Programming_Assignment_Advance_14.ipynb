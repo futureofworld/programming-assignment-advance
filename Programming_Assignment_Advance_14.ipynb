{
  "nbformat": 4,
  "nbformat_minor": 0,
  "metadata": {
    "colab": {
      "name": "Programming_Assignment_Advance_14.ipynb",
      "provenance": [],
      "collapsed_sections": [],
      "authorship_tag": "ABX9TyOlZq3czEa6xGu6sXgd6SR1"
    },
    "kernelspec": {
      "name": "python3",
      "display_name": "Python 3"
    },
    "language_info": {
      "name": "python"
    }
  },
  "cells": [
    {
      "cell_type": "markdown",
      "source": [
        "Q1. Given a list of numbers, create a function that removes 25% from every\n",
        "number in the list except the smallest number, and adds the total amount\n",
        "removed to the smallest number.\n",
        "\n",
        "Examples\n",
        "\n",
        "show_the_love([4, 1, 4]) ➞ [3, 3, 3]\n",
        "\n",
        "show_the_love([16, 10, 8]) ➞ [12, 7.5, 14.5]\n",
        "\n",
        "show_the_love([2, 100]) ➞ [27, 75]"
      ],
      "metadata": {
        "id": "UPHBja_uV3nN"
      }
    },
    {
      "cell_type": "code",
      "execution_count": 1,
      "metadata": {
        "colab": {
          "base_uri": "https://localhost:8080/"
        },
        "id": "cyKg7kivV2zz",
        "outputId": "30542193-297d-4774-e123-96ac6a36ab7e"
      },
      "outputs": [
        {
          "output_type": "stream",
          "name": "stdout",
          "text": [
            "[3.0, 3.0, 3.0]\n",
            "[12.0, 7.5, 14.5]\n",
            "[27.0, 75.0]\n"
          ]
        }
      ],
      "source": [
        "def show_the_love(lst):\n",
        "    percent_25 = 0\n",
        "    for i in range(len(lst)):\n",
        "        if lst[i] == min(lst):\n",
        "            continue\n",
        "        else:\n",
        "            percent_25 += lst[i]/4\n",
        "            lst[i] -= lst[i]/4\n",
        "    lst[lst.index(min(lst))] += percent_25\n",
        "    print(lst)\n",
        "\n",
        "show_the_love([4,1,4])\n",
        "show_the_love([16, 10, 8])\n",
        "show_the_love([2, 100])"
      ]
    },
    {
      "cell_type": "markdown",
      "source": [
        "Q2. Create a function that takes in two words as input and returns a list of three\n",
        "elements, in the following order:\n",
        "\n",
        "1.Shared letters between two words.\n",
        "\n",
        "2.Letters unique to word 1.\n",
        "\n",
        "3.Letters unique to word 2.\n",
        "\n",
        "Each element should have unique letters, and have each letter be\n",
        "alphabetically sorted.\n",
        "\n",
        "Examples\n",
        "\n",
        "letters(&quot;sharp&quot;, &quot;soap&quot;) ➞ [&quot;aps&quot;, &quot;hr&quot;, &quot;o&quot;]\n",
        "\n",
        "letters(&quot;board&quot;, &quot;bored&quot;) ➞ [&quot;bdor&quot;, &quot;a&quot;, &quot;e&quot;]\n",
        "\n",
        "letters(&quot;happiness&quot;, &quot;envelope&quot;) ➞ [&quot;enp&quot;, &quot;ahis&quot;, &quot;lov&quot;]\n",
        "\n",
        "letters(&quot;kerfuffle&quot;, &quot;fluffy&quot;) ➞ [&quot;flu&quot;, &quot;ekr&quot;, &quot;y&quot;]\n",
        "\n",
        "Even with multiple matching letters (e.g. 3 f&#39;s), there should\n",
        "only exist a single &quot;f&quot; in your first element.\n",
        "\n",
        "letters(&quot;match&quot;, &quot;ham&quot;) ➞ [&quot;ahm&quot;, &quot;ct&quot;, &quot;&quot;]\n",
        "\n",
        " &quot;ham&quot; does not contain any letters that are not found already\n",
        " in &quot;match&quot;."
      ],
      "metadata": {
        "id": "Ro6VRmGRX-vd"
      }
    },
    {
      "cell_type": "code",
      "source": [
        "def letters(txt1, txt2):\n",
        "    common = ''\n",
        "    unique_in_1 = ''\n",
        "    unique_in_2 = ''\n",
        "    for i in range(len(txt1)):\n",
        "        if txt1[i] in txt2:\n",
        "            common += txt1[i]\n",
        "        else:\n",
        "            unique_in_1 += txt1[i]\n",
        "        if i == len(txt2):\n",
        "            break\n",
        "        if txt2[i] in txt1:\n",
        "            common += txt2[i]\n",
        "        else:\n",
        "            unique_in_2 += txt2[i]\n",
        "    print([''.join(sorted(set(common))), ''.join(sorted(unique_in_1)), ''.join(sorted(unique_in_2))])\n",
        "\n",
        "letters('sharp', 'soap')\n",
        "letters(\"board\", \"bored\")\n",
        "letters(\"happiness\", \"envelope\")\n",
        "letters(\"kerfuffle\", \"fluffy\")\n",
        "letters(\"match\", \"ham\")"
      ],
      "metadata": {
        "colab": {
          "base_uri": "https://localhost:8080/"
        },
        "id": "3s5Y43GWYE_i",
        "outputId": "955ff663-95a4-422b-b099-3fc1d2147c40"
      },
      "execution_count": 2,
      "outputs": [
        {
          "output_type": "stream",
          "name": "stdout",
          "text": [
            "['aps', 'hr', 'o']\n",
            "['bdor', 'a', 'e']\n",
            "['enp', 'ahiss', 'lov']\n",
            "['flu', 'ekr', 'y']\n",
            "['ahm', 'ct', '']\n"
          ]
        }
      ]
    },
    {
      "cell_type": "markdown",
      "source": [
        "Q3. Write a function that pairs the first number in an array with the last, the\n",
        "second number with the second to last, etc.\n",
        "\n",
        "Examples\n",
        "\n",
        "pairs([1, 2, 3, 4, 5, 6, 7]) ➞ [[1, 7], [2, 6], [3, 5], [4, 4]]\n",
        "\n",
        "pairs([1, 2, 3, 4, 5, 6]) ➞ [[1, 6], [2, 5], [3, 4]]\n",
        "\n",
        "pairs([5, 9, 8, 1, 2]) ➞ [[5, 2], [9, 1], [8, 8]]\n",
        "\n",
        "pairs([]) ➞ []"
      ],
      "metadata": {
        "id": "cbTYliD8biHn"
      }
    },
    {
      "cell_type": "code",
      "source": [
        "import math\n",
        "def pairs(lst):\n",
        "    pair = []\n",
        "    for i in range(math.ceil(len(lst)/2)):\n",
        "        pair.append([lst[i],lst[-(i+1)]])\n",
        "    print(pair)\n",
        "\n",
        "pairs([1,2,3,4,5,6,7])\n",
        "pairs([1, 2, 3, 4, 5, 6])\n",
        "pairs([5, 9, 8, 1, 2])\n",
        "pairs([])"
      ],
      "metadata": {
        "colab": {
          "base_uri": "https://localhost:8080/"
        },
        "id": "LjhghiJzYrKZ",
        "outputId": "10b165c0-a5ff-4a09-e2fb-8c8e4f089233"
      },
      "execution_count": 3,
      "outputs": [
        {
          "output_type": "stream",
          "name": "stdout",
          "text": [
            "[[1, 7], [2, 6], [3, 5], [4, 4]]\n",
            "[[1, 6], [2, 5], [3, 4]]\n",
            "[[5, 2], [9, 1], [8, 8]]\n",
            "[]\n"
          ]
        }
      ]
    },
    {
      "cell_type": "markdown",
      "source": [
        "Q4. Write a function that adds two numbers. The catch, however, is that the\n",
        "numbers will be strings.\n",
        "\n",
        "Examples\n",
        "\n",
        "add_str_nums(&quot;4&quot;, &quot;5&quot;) ➞ &quot;9&quot;\n",
        "\n",
        "add_str_nums(&quot;abcdefg&quot;, &quot;3&quot;) ➞ &quot;-1&quot;\n",
        "\n",
        "add_str_nums(&quot;1&quot;, &quot;&quot;) ➞ &quot;1&quot;\n",
        "\n",
        "add_str_nums(&quot;1874682736267235927359283579235789257&quot;,\n",
        "&quot;32652983572985729&quot;) ➞ &quot;1874682736267235927391936562808774986&quot;"
      ],
      "metadata": {
        "id": "Wc8hSnxBchAl"
      }
    },
    {
      "cell_type": "code",
      "source": [
        "def add_str_nums(txt1,txt2):\n",
        "    try:\n",
        "        if txt1 and txt2:\n",
        "            print(str(int(txt1) + int(txt2)))\n",
        "        else:\n",
        "            print(txt1+txt2)\n",
        "    except:\n",
        "        print('-1')\n",
        "\n",
        "add_str_nums(\"4\", \"5\")\n",
        "add_str_nums(\"abcdefg\", \"3\")\n",
        "add_str_nums(\"1\", \"\")\n",
        "add_str_nums(\"1874682736267235927359283579235789257\", \"32652983572985729\")"
      ],
      "metadata": {
        "colab": {
          "base_uri": "https://localhost:8080/"
        },
        "id": "3OkLmIwqcBE1",
        "outputId": "c23c7acf-892f-4dc6-ea73-5410b78919fd"
      },
      "execution_count": 4,
      "outputs": [
        {
          "output_type": "stream",
          "name": "stdout",
          "text": [
            "9\n",
            "-1\n",
            "1\n",
            "1874682736267235927391936562808774986\n"
          ]
        }
      ]
    },
    {
      "cell_type": "markdown",
      "source": [
        "Q5. lPaeesh le pemu mnxit ehess rtnisg! Oh, sorry, that was supposed to say:\n",
        "Please help me unmix these strings!\n",
        "Somehow my strings have all become mixed up; every pair of characters has\n",
        "been swapped. Help me undo this so I can understand my strings again.\n",
        "\n",
        "Examples\n",
        "\n",
        "unmix(&quot;123456&quot;) ➞ &quot;214365&quot;\n",
        "\n",
        "unmix(&quot;hTsii s aimex dpus rtni.g&quot;) ➞ &quot;This is a mixed up string.&quot;\n",
        "\n",
        "unmix(&quot;badce&quot;) ➞ &quot;abcde&quot;"
      ],
      "metadata": {
        "id": "6dWTkX-Edoyb"
      }
    },
    {
      "cell_type": "code",
      "source": [
        "def unmix(txt):\n",
        "    new_txt = ''\n",
        "    for i in range(0,len(txt),2):\n",
        "        if i == len(txt)-1:\n",
        "            new_txt += txt[i]\n",
        "        else:\n",
        "            new_txt += txt[i+1] + txt[i]\n",
        "    print(new_txt)\n",
        "\n",
        "unmix('123456')\n",
        "unmix(\"hTsii  s aimex dpus rtni.g\")\n",
        "unmix(\"badce\")"
      ],
      "metadata": {
        "colab": {
          "base_uri": "https://localhost:8080/"
        },
        "id": "zRkNgCS-dJlt",
        "outputId": "0469ff27-a47f-48c0-a5a9-dbaf72a7e447"
      },
      "execution_count": 5,
      "outputs": [
        {
          "output_type": "stream",
          "name": "stdout",
          "text": [
            "214365\n",
            "This is a mixed up string.\n",
            "abcde\n"
          ]
        }
      ]
    }
  ]
}