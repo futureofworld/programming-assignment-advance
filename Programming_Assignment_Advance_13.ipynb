{
  "nbformat": 4,
  "nbformat_minor": 0,
  "metadata": {
    "colab": {
      "name": "Programming_Assignment_Advance_13.ipynb",
      "provenance": [],
      "collapsed_sections": [],
      "authorship_tag": "ABX9TyOK5DgtYqbm+Hyl02YjgjTz"
    },
    "kernelspec": {
      "name": "python3",
      "display_name": "Python 3"
    },
    "language_info": {
      "name": "python"
    }
  },
  "cells": [
    {
      "cell_type": "markdown",
      "source": [
        "Q1. Create a function that takes a list and string. The function should remove\n",
        "the letters in the string from the list, and return the list.\n",
        "\n",
        "Examples\n",
        "\n",
        "remove_letters([&quot;s&quot;, &quot;t&quot;, &quot;r&quot;, &quot;i&quot;, &quot;n&quot;, &quot;g&quot;, &quot;w&quot;], &quot;string&quot;) ➞ [&quot;w&quot;]\n",
        "\n",
        "remove_letters([&quot;b&quot;, &quot;b&quot;, &quot;l&quot;, &quot;l&quot;, &quot;g&quot;, &quot;n&quot;, &quot;o&quot;, &quot;a&quot;, &quot;w&quot;], &quot;balloon&quot;) ➞ [&quot;b&quot;, &quot;g&quot;,\n",
        "&quot;w&quot;]\n",
        "\n",
        "remove_letters([&quot;d&quot;, &quot;b&quot;, &quot;t&quot;, &quot;e&quot;, &quot;a&quot;, &quot;i&quot;], &quot;edabit&quot;) ➞ []"
      ],
      "metadata": {
        "id": "psQiPumSpDX7"
      }
    },
    {
      "cell_type": "code",
      "execution_count": 1,
      "metadata": {
        "colab": {
          "base_uri": "https://localhost:8080/"
        },
        "id": "TOjmJ-vlo-ns",
        "outputId": "654b148b-cb74-456e-b2ca-1cb28761f9d9"
      },
      "outputs": [
        {
          "output_type": "stream",
          "name": "stdout",
          "text": [
            "['w']\n",
            "['b', 'g', 'w']\n",
            "[]\n"
          ]
        }
      ],
      "source": [
        "def remove_letters(lst, string):\n",
        "    new_lst = []\n",
        "    for i in lst:\n",
        "        if i not in string:\n",
        "            new_lst.append(i)\n",
        "        string = string.replace(i,'',1)\n",
        "    print(new_lst)\n",
        "\n",
        "remove_letters([\"s\", \"t\", \"r\", \"i\", \"n\", \"g\", \"w\"], \"string\")\n",
        "remove_letters([\"b\", \"b\", \"l\", \"l\", \"g\", \"n\", \"o\", \"a\", \"w\"], \"balloon\")\n",
        "remove_letters([\"d\", \"b\", \"t\", \"e\", \"a\", \"i\"], \"edabit\")"
      ]
    },
    {
      "cell_type": "markdown",
      "source": [
        "Q2. A block sequence in three dimensions. We can write a formula for this one:\n",
        "\n",
        "Create a function that takes a number (step) as an argument and returns the\n",
        "amount of blocks in that step.\n",
        "\n",
        "Examples\n",
        "\n",
        "blocks(1) ➞ 5\n",
        "\n",
        "blocks(5) ➞ 39\n",
        "\n",
        "blocks(2) ➞ 12"
      ],
      "metadata": {
        "id": "KSnA9aq5pcYq"
      }
    },
    {
      "cell_type": "code",
      "source": [
        "def blocks(num):\n",
        "    stand = 3\n",
        "    sleep = 3\n",
        "    blocks = stand + sleep - 1\n",
        "    for i in range(num-1):\n",
        "        stand += 1\n",
        "        blocks += stand + sleep\n",
        "    print(blocks)\n",
        "\n",
        "blocks(1)\n",
        "blocks(5)\n",
        "blocks(2)"
      ],
      "metadata": {
        "colab": {
          "base_uri": "https://localhost:8080/"
        },
        "id": "xK7EVxDXpeiS",
        "outputId": "36406428-4731-48f5-cc9e-7a791ff0c616"
      },
      "execution_count": 2,
      "outputs": [
        {
          "output_type": "stream",
          "name": "stdout",
          "text": [
            "5\n",
            "39\n",
            "12\n"
          ]
        }
      ]
    },
    {
      "cell_type": "markdown",
      "source": [
        "Q3. Create a function that subtracts one positive integer from another, without\n",
        "using any arithmetic operators such as -, %, /, +, etc.\n",
        "\n",
        "Examples\n",
        "\n",
        "my_sub(5, 9) ➞ 4\n",
        "\n",
        "my_sub(10, 30) ➞ 20\n",
        "\n",
        "my_sub(0, 0) ➞ 0"
      ],
      "metadata": {
        "id": "yXpFI2kws8MF"
      }
    },
    {
      "cell_type": "code",
      "source": [
        "def my_sub(x, y):\n",
        "    large = max(x,y)\n",
        "    small = min(x,y)\n",
        "    while (small != 0):\n",
        "        borrow = (~large) & small\n",
        "        large = large ^ small\n",
        "        small = borrow << 1\n",
        "    return large\n",
        "\n",
        "print(my_sub(5,9))\n",
        "print(my_sub(10,30))\n",
        "print(my_sub(0, 0))"
      ],
      "metadata": {
        "id": "qqmrJy04tAJs",
        "colab": {
          "base_uri": "https://localhost:8080/"
        },
        "outputId": "e6af4675-dc63-487f-adf3-63e987ce35e7"
      },
      "execution_count": 3,
      "outputs": [
        {
          "output_type": "stream",
          "name": "stdout",
          "text": [
            "4\n",
            "20\n",
            "0\n"
          ]
        }
      ]
    },
    {
      "cell_type": "markdown",
      "source": [
        "Q4. Create a function that takes a string containing money in dollars and\n",
        "pounds sterling (seperated by comma) and returns the sum of dollar bills only,\n",
        "as an integer.\n",
        "\n",
        "For the input string:\n",
        "- Each amount is prefixed by the currency symbol: $' for dollars and £ for\n",
        "pounds.\n",
        "- Thousands are represented by the suffix k.\n",
        "i.e. $4k = $4,000 and £40k = £40,000\n",
        "\n",
        "Examples\n",
        "\n",
        "add_bill(&quot;d20,p40,p60,d50&quot;) ➞ 20 + 50 = 70\n",
        "\n",
        "add_bill(&quot;p30,d20,p60,d150,p360&quot;) ➞ 20 + 150 = 170\n",
        "\n",
        "add_bill(&quot;p30,d2k,p60,d200,p360&quot;) ➞ 2 * 1000 + 200 = 2200"
      ],
      "metadata": {
        "id": "ao3UNZyStIxV"
      }
    },
    {
      "cell_type": "code",
      "source": [
        "import re\n",
        "def add_bill(txt):\n",
        "    lst = re.findall('(?<=d)[0-9]+k*', txt)\n",
        "    sum = 0\n",
        "    for i in lst:\n",
        "        if 'k' in i:\n",
        "            sum += int(i.replace('k','000'))\n",
        "        else:\n",
        "            sum += int(i)\n",
        "    print(sum)\n",
        "\n",
        "add_bill(\"d20,p40,p60,d50\")\n",
        "add_bill(\"p30,d20,p60,d150,p360\")\n",
        "add_bill(\"p30,d2k,p60,d200,p360\")"
      ],
      "metadata": {
        "colab": {
          "base_uri": "https://localhost:8080/"
        },
        "id": "VQIMJGLqtVW8",
        "outputId": "a77938d9-7f04-4e3c-b4af-30a6f2dccb12"
      },
      "execution_count": 4,
      "outputs": [
        {
          "output_type": "stream",
          "name": "stdout",
          "text": [
            "70\n",
            "170\n",
            "2200\n"
          ]
        }
      ]
    },
    {
      "cell_type": "markdown",
      "source": [
        "Q5. Create a function that flips a horizontal list into a vertical list, and a vertical\n",
        "list into a horizontal list.\n",
        "In other words, take an 1 x n list (1 row + n columns) and flip it into a n x 1 list\n",
        "(n rows and 1 column), and vice versa.\n",
        "\n",
        "Examples\n",
        "\n",
        "flip_list([1, 2, 3, 4]) ➞ [[1], [2], [3], [4]]\n",
        "\n",
        "Take a horizontal list and flip it vertical.\n",
        "\n",
        "flip_list([[5], [6], [9]]) ➞ [5, 6, 9]\n",
        "\n",
        "Take a vertical list and flip it horizontal.\n",
        "\n",
        "flip_list([]) ➞ []"
      ],
      "metadata": {
        "id": "S9C2kfo3wCN6"
      }
    },
    {
      "cell_type": "code",
      "source": [
        "def flip_list(lst):\n",
        "    if not lst:\n",
        "        print([])\n",
        "        return\n",
        "    if type(lst[0]) == list:\n",
        "        one_d = sum(lst,[])\n",
        "        print(one_d)\n",
        "    else:\n",
        "        two_d = []\n",
        "        for i in lst:\n",
        "            two_d.append([i])\n",
        "        print(two_d)\n",
        "\n",
        "flip_list([1, 2, 3, 4])\n",
        "flip_list([[5], [6], [9]])\n",
        "flip_list([])"
      ],
      "metadata": {
        "id": "YwlvL9lZwGLZ",
        "colab": {
          "base_uri": "https://localhost:8080/"
        },
        "outputId": "ebf34608-2877-40d7-eb69-c78fdd0d0f66"
      },
      "execution_count": 5,
      "outputs": [
        {
          "output_type": "stream",
          "name": "stdout",
          "text": [
            "[[1], [2], [3], [4]]\n",
            "[5, 6, 9]\n",
            "[]\n"
          ]
        }
      ]
    }
  ]
}