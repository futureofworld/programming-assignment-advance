{
  "nbformat": 4,
  "nbformat_minor": 0,
  "metadata": {
    "colab": {
      "name": "Programming_Assignment_Advance_16.ipynb",
      "provenance": [],
      "authorship_tag": "ABX9TyMm2T7lhN3QfMG+6F4nqjJG"
    },
    "kernelspec": {
      "name": "python3",
      "display_name": "Python 3"
    },
    "language_info": {
      "name": "python"
    }
  },
  "cells": [
    {
      "cell_type": "markdown",
      "source": [
        "Q1. Rondo Form is a type of musical structure, in which there is a recurring\n",
        "theme/refrain, notated as A. Here are the rules for valid rondo forms:\n",
        "- Rondo forms always start and end with an A section.\n",
        "- In between the A sections, there should be contrasting sections notated as\n",
        "B, then C, then D, etc... No letter should be skipped.\n",
        "- There shouldn&#39;t be any repeats in the sequence (such as ABBACCA).\n",
        "Create a function which validates whether a given string is a valid Rondo\n",
        "Form.\n",
        "\n",
        "Examples\n",
        "\n",
        "valid_rondo(&quot;ABACADAEAFAGAHAIAJA&quot;) ➞ True\n",
        "\n",
        "valid_rondo(&quot;ABA&quot;) ➞ True\n",
        "\n",
        "valid_rondo(&quot;ABBACCA&quot;) ➞ False\n",
        "\n",
        "valid_rondo(&quot;ACAC&quot;) ➞ False\n",
        "\n",
        "valid_rondo(&quot;A&quot;) ➞ False"
      ],
      "metadata": {
        "id": "UHs2hUesS1zm"
      }
    },
    {
      "cell_type": "code",
      "execution_count": 1,
      "metadata": {
        "colab": {
          "base_uri": "https://localhost:8080/"
        },
        "id": "t1GPoJo7S1Pr",
        "outputId": "b93beff9-71d8-4d93-f297-322a117df3d8"
      },
      "outputs": [
        {
          "output_type": "stream",
          "name": "stdout",
          "text": [
            "True\n",
            "True\n",
            "False\n",
            "False\n",
            "False\n"
          ]
        }
      ],
      "source": [
        "import string\n",
        "def valid_rondo(txt):\n",
        "    if txt[0]=='A' and txt[-1]=='A' and len(txt)>1:\n",
        "        j = 1\n",
        "        for i in range(1,len(txt),2):\n",
        "            if j != string.ascii_letters.index(txt[i].lower()):\n",
        "                print(False)\n",
        "                return\n",
        "            j += 1\n",
        "        print(True)\n",
        "    else:\n",
        "        print(False)\n",
        "\n",
        "valid_rondo(\"ABACADAEAFAGAHAIAJA\")\n",
        "valid_rondo(\"ABA\")\n",
        "valid_rondo(\"ABBACCA\")\n",
        "valid_rondo(\"ACAC\")\n",
        "valid_rondo(\"A\")"
      ]
    },
    {
      "cell_type": "markdown",
      "source": [
        "Q2. Create a function that returns the whole of the first sentence which\n",
        "contains a specific word. Include the full stop at the end of the sentence.\n",
        "\n",
        "Examples\n",
        "\n",
        "txt = &quot;I have a cat. I have a mat. Things are going swell.&quot;\n",
        "\n",
        "sentence_searcher(txt, &quot;have&quot;) ➞ &quot;I have a cat.&quot;\n",
        "\n",
        "sentence_searcher(txt, &quot;MAT&quot;) ➞ &quot;I have a mat.&quot;\n",
        "\n",
        "sentence_searcher(txt, &quot;things&quot;) ➞ &quot;Things are going swell.&quot;\n",
        "\n",
        "sentence_searcher(txt, &quot;flat&quot;) ➞ &quot;&quot;"
      ],
      "metadata": {
        "id": "gPjLbukHV97K"
      }
    },
    {
      "cell_type": "code",
      "source": [
        "def sentence_searcher(txt, word):\n",
        "    txt = txt.split('.')\n",
        "    word = word.lower()\n",
        "    for i in txt:\n",
        "        if word in i.lower():\n",
        "            print((i+'.').strip())\n",
        "            return\n",
        "    print('')\n",
        "\n",
        "txt = \"I have a cat. I have a mat. Things are going swell.\"\n",
        "sentence_searcher(txt, \"have\")\n",
        "sentence_searcher(txt, \"MAT\")\n",
        "sentence_searcher(txt, \"things\")\n",
        "sentence_searcher(txt, \"flat\")"
      ],
      "metadata": {
        "colab": {
          "base_uri": "https://localhost:8080/"
        },
        "id": "KTW2UnYqTvbj",
        "outputId": "edc7568d-7da6-4f10-86d6-7987f2af196e"
      },
      "execution_count": 2,
      "outputs": [
        {
          "output_type": "stream",
          "name": "stdout",
          "text": [
            "I have a cat.\n",
            "I have a mat.\n",
            "Things are going swell.\n",
            "\n"
          ]
        }
      ]
    },
    {
      "cell_type": "markdown",
      "source": [
        "Q3. Given a number, find the &quot;round &quot;of each digit of the number. An integer is\n",
        "called &quot;round&quot; if all its digits except the leftmost (most significant) are equal to\n",
        "zero.\n",
        "- Round numbers: 4000, 1, 9, 800, 90\n",
        "- Not round numbers: 110, 707, 222, 1001\n",
        "\n",
        "Create a function that takes a number and returns the &quot;round&quot; of each digit\n",
        "(except if the digit is zero) as a string. Check out the following examples for\n",
        "more clarification.\n",
        "\n",
        "Examples\n",
        "\n",
        "sum_round(101) ➞ &quot;1 100&quot;\n",
        "\n",
        "sum_round(1234) ➞ &quot;4 30 200 1000&quot;\n",
        "\n",
        "sum_round(54210) ➞ &quot;10 200 4000 50000&quot;"
      ],
      "metadata": {
        "id": "Tqki741nXaJO"
      }
    },
    {
      "cell_type": "code",
      "source": [
        "def sum_round(num):\n",
        "    num = str(num)\n",
        "    sum = ''\n",
        "    for i in range(len(num)):\n",
        "        if num[i] != '0':\n",
        "            sum = \" \" + num[i] + '0'*(len(num)-i-1) + sum\n",
        "    print(sum.strip())\n",
        "\n",
        "sum_round(101)\n",
        "sum_round(1234)\n",
        "sum_round(54210)"
      ],
      "metadata": {
        "colab": {
          "base_uri": "https://localhost:8080/"
        },
        "id": "UWr2qvSMXdZf",
        "outputId": "34db14c1-d481-4620-9b31-a67cf53ce1a6"
      },
      "execution_count": 3,
      "outputs": [
        {
          "output_type": "stream",
          "name": "stdout",
          "text": [
            "1 100\n",
            "4 30 200 1000\n",
            "10 200 4000 50000\n"
          ]
        }
      ]
    },
    {
      "cell_type": "markdown",
      "source": [
        "Q4. Your task, is to create N x N multiplication table, of size n provided in\n",
        "parameter.\n",
        "For example, when n is 5, the multiplication table is:\n",
        "- 1, 2, 3, 4, 5\n",
        "- 2, 4, 6, 8, 10\n",
        "- 3, 6, 9, 12, 15\n",
        "- 4, 8, 12, 16, 20\n",
        "- 5, 10, 15, 20, 25\n",
        "This example will result in:\n",
        "[[1, 2, 3, 4, 5], [2, 4, 6, 8, 10], [3, 6, 9, 12, 15], [4, 8, 12, 16, 20], [5, 10, 15, 20,\n",
        "25]]\n",
        "\n",
        "Examples\n",
        "\n",
        "multiplication_table(1) ➞ [[1]]\n",
        "\n",
        "multiplication_table(3) ➞ [[1, 2, 3], [2, 4, 6], [3, 6, 9]]"
      ],
      "metadata": {
        "id": "p45cECy2Zie9"
      }
    },
    {
      "cell_type": "code",
      "source": [
        "def multiplication_table(num):\n",
        "    lst = []\n",
        "    for i in range(num):\n",
        "        lst.append([(j+1)*(i+1) for j in range(num)])\n",
        "    print(lst)\n",
        "\n",
        "multiplication_table(1)\n",
        "multiplication_table(3)"
      ],
      "metadata": {
        "colab": {
          "base_uri": "https://localhost:8080/"
        },
        "id": "kh5LxDeOZkmT",
        "outputId": "1d2d606e-9b82-4218-ee09-e593bf339c56"
      },
      "execution_count": 4,
      "outputs": [
        {
          "output_type": "stream",
          "name": "stdout",
          "text": [
            "[[1]]\n",
            "[[1, 2, 3], [2, 4, 6], [3, 6, 9]]\n"
          ]
        }
      ]
    },
    {
      "cell_type": "markdown",
      "source": [
        "Q5. Create a function that returns True if two lines rhyme and False otherwise.\n",
        "For the purposes of this exercise, two lines rhyme if the last word from each\n",
        "sentence contains the same vowels.\n",
        "\n",
        "Examples\n",
        "\n",
        "does_rhyme(&quot;Sam I am!&quot;, &quot;Green eggs and ham.&quot;) ➞ True\n",
        "\n",
        "does_rhyme(&quot;Sam I am!&quot;, &quot;Green eggs and HAM.&quot;) ➞ True\n",
        "\n",
        " Capitalization and punctuation should not matter.\n",
        "\n",
        "does_rhyme(&quot;You are off to the races&quot;, &quot;a splendid day.&quot;) ➞ False\n",
        "\n",
        "does_rhyme(&quot;and frequently do?&quot;, &quot;you gotta move.&quot;) ➞ False"
      ],
      "metadata": {
        "id": "Beq5bAG0au1b"
      }
    },
    {
      "cell_type": "code",
      "source": [
        "def does_rhyme(txt1, txt2):\n",
        "    txt1 = txt1.strip('!.?')\n",
        "    txt2 = txt2.strip('!.?')\n",
        "    i = 1\n",
        "    while txt1.lower()[-i] != ' ' and txt2.lower()[-i] != ' ':\n",
        "        if txt1[-i].lower() != txt2[-i].lower():\n",
        "            print(False)\n",
        "            return\n",
        "        i += 1\n",
        "    print(True)\n",
        "\n",
        "does_rhyme(\"Sam I am!\", \"Green eggs and ham.\")\n",
        "does_rhyme(\"Sam I am!\", \"Green eggs and HAM.\")\n",
        "does_rhyme(\"You are off to the races\", \"a splendid day.\")\n",
        "does_rhyme(\"and frequently do?\", \"you gotta move.\")"
      ],
      "metadata": {
        "colab": {
          "base_uri": "https://localhost:8080/"
        },
        "id": "5hKeIT8Taypq",
        "outputId": "43a02f79-064a-470d-c374-3125c4ba51f2"
      },
      "execution_count": 5,
      "outputs": [
        {
          "output_type": "stream",
          "name": "stdout",
          "text": [
            "True\n",
            "True\n",
            "False\n",
            "False\n"
          ]
        }
      ]
    }
  ]
}