{
  "nbformat": 4,
  "nbformat_minor": 0,
  "metadata": {
    "colab": {
      "name": "Programming_Assignment_Advance_8.ipynb",
      "provenance": [],
      "authorship_tag": "ABX9TyNJxz8bXl9yubROnvcdSMt2"
    },
    "kernelspec": {
      "name": "python3",
      "display_name": "Python 3"
    },
    "language_info": {
      "name": "python"
    }
  },
  "cells": [
    {
      "cell_type": "markdown",
      "source": [
        "Q1. Given a sentence as txt, return True if any two adjacent words have this\n",
        "property: \n",
        "\n",
        "One word ends with a vowel, while the word immediately after\n",
        "begins with a vowel (a e i o u).\n",
        "\n",
        "Examples\n",
        "\n",
        "vowel_links(&quot;a very large appliance&quot;) ➞ True\n",
        "\n",
        "vowel_links(&quot;go to edabit&quot;) ➞ True\n",
        "\n",
        "vowel_links(&quot;an open fire&quot;) ➞ False\n",
        "\n",
        "vowel_links(&quot;a sudden applause&quot;) ➞ False"
      ],
      "metadata": {
        "id": "ry9FendgjKzs"
      }
    },
    {
      "cell_type": "code",
      "execution_count": 1,
      "metadata": {
        "colab": {
          "base_uri": "https://localhost:8080/"
        },
        "id": "2DUs9ydvR4-e",
        "outputId": "c58313a5-af92-40d2-a896-9170dc310580"
      },
      "outputs": [
        {
          "output_type": "stream",
          "name": "stdout",
          "text": [
            "True\n",
            "True\n",
            "False\n",
            "False\n"
          ]
        }
      ],
      "source": [
        "def vowel_links(sentence):\n",
        "    vowel = ['a','e','i','o','u']\n",
        "    lst = sentence.split()\n",
        "    for i in range(len(lst)-1):\n",
        "        if lst[i][-1] in vowel and lst[i+1][0] in vowel :\n",
        "            return True\n",
        "    return False\n",
        "\n",
        "print(vowel_links(\"a very large appliance\"))\n",
        "print(vowel_links(\"go to edabit\"))\n",
        "print(vowel_links(\"an open fire\"))\n",
        "print(vowel_links(\"a sudden applause\"))"
      ]
    },
    {
      "cell_type": "markdown",
      "source": [
        "Q2. You are given three inputs: a string, one letter, and a second letter.\n",
        "Write a function that returns True if every instance of the first letter occurs\n",
        "before every instance of the second letter.\n",
        "\n",
        "Examples\n",
        "\n",
        "first_before_second(&quot;a rabbit jumps joyfully&quot;, &quot;a&quot;, &quot;j&quot;) ➞ True\n",
        "\n",
        "Every instance of &quot;a&quot; occurs before every instance of &quot;j&quot;.\n",
        "\n",
        "first_before_second(&quot;knaves knew about waterfalls&quot;, &quot;k&quot;, &quot;w&quot;) ➞ True\n",
        "\n",
        "first_before_second(&quot;happy birthday&quot;, &quot;a&quot;, &quot;y&quot;) ➞ False\n",
        "\n",
        "The &quot;a&quot; in &quot;birthday&quot; occurs after the &quot;y&quot; in &quot;happy&quot;.\n",
        "\n",
        "first_before_second(&quot;precarious kangaroos&quot;, &quot;k&quot;, &quot;a&quot;) ➞ False"
      ],
      "metadata": {
        "id": "wuUrWbHbkEVx"
      }
    },
    {
      "cell_type": "code",
      "source": [
        "def first_before_second(sen, a, b):\n",
        "    lsta = []\n",
        "    lstb = []\n",
        "    sen = ''.join(sen.split())\n",
        "    for i in range(len(sen)):\n",
        "        if sen[i] == a:\n",
        "            lsta.append(i)\n",
        "        elif sen[i] == b:\n",
        "            lstb.append(i)\n",
        "\n",
        "    for i in lsta:\n",
        "        if i>lstb[0]:\n",
        "            return False\n",
        "\n",
        "    return True\n",
        "\n",
        "print(first_before_second('a rabbit jumps joyfully','a','j'))\n",
        "print(first_before_second(\"knaves knew about waterfalls\", \"k\", \"w\"))\n",
        "print(first_before_second(\"precarious kangaroos\", \"k\", \"a\"))"
      ],
      "metadata": {
        "colab": {
          "base_uri": "https://localhost:8080/"
        },
        "id": "h_6sBVPTlWx3",
        "outputId": "9e564c6e-3881-4868-ea06-423b8cbddd4e"
      },
      "execution_count": 2,
      "outputs": [
        {
          "output_type": "stream",
          "name": "stdout",
          "text": [
            "True\n",
            "True\n",
            "False\n"
          ]
        }
      ]
    },
    {
      "cell_type": "markdown",
      "source": [
        "Q3. Create a function that returns the characters from a list or string r on odd or\n",
        "even positions, depending on the specifier s. The specifier will be &quot;odd&quot; for\n",
        "items on odd positions (1, 3, 5, ...) and &quot;even&quot; for items on even positions (2,\n",
        "4, 6, ...).\n",
        "\n",
        "Examples\n",
        "\n",
        "char_at_pos([2, 4, 6, 8, 10], &quot;even&quot;) ➞ [4, 8]\n",
        "\n",
        "4 &amp; 8 occupy the 2nd &amp; 4th positions\n",
        "\n",
        "char_at_pos(&quot;EDABIT&quot;, &quot;odd&quot;) ➞ &quot;EAI&quot;\n",
        "&quot;E&quot;, &quot;A&quot; and &quot;I&quot; \n",
        "occupy the 1st, 3rd and 5th positions\n",
        "\n",
        "char_at_pos([&quot;A&quot;, &quot;R&quot;, &quot;B&quot;, &quot;I&quot;, &quot;T&quot;, &quot;R&quot;, &quot;A&quot;, &quot;R&quot;, &quot;I&quot;, &quot;L&quot;, &quot;Y&quot;], &quot;odd&quot;) ➞ [&quot;A&quot;,\n",
        "&quot;B&quot;, &quot;T&quot;, &quot;A&quot;, &quot;I&quot;, &quot;Y&quot;]"
      ],
      "metadata": {
        "id": "TABlAkEUn4Ut"
      }
    },
    {
      "cell_type": "code",
      "source": [
        "def char_at_pos(lst, oddeven):\n",
        "    new_lst = []\n",
        "    if oddeven == 'odd':\n",
        "        for i in range(0,len(lst),2):\n",
        "            new_lst.append(lst[i])\n",
        "    else:\n",
        "        for i in range(1,len(lst),2):\n",
        "            new_lst.append(lst[i])\n",
        "\n",
        "    print(new_lst)\n",
        "\n",
        "char_at_pos([2,4,6,8,10],'even')\n",
        "char_at_pos(\"EDABIT\", \"odd\")\n",
        "char_at_pos([\"A\", \"R\", \"B\", \"I\", \"T\", \"R\", \"A\", \"R\", \"I\", \"L\", \"Y\"], \"odd\")"
      ],
      "metadata": {
        "colab": {
          "base_uri": "https://localhost:8080/"
        },
        "id": "Rs-LaY_nn5nc",
        "outputId": "e7c98143-1705-45cd-a3d6-8d60720cc81a"
      },
      "execution_count": 3,
      "outputs": [
        {
          "output_type": "stream",
          "name": "stdout",
          "text": [
            "[4, 8]\n",
            "['E', 'A', 'I']\n",
            "['A', 'B', 'T', 'A', 'I', 'Y']\n"
          ]
        }
      ]
    },
    {
      "cell_type": "markdown",
      "source": [
        "Q4. Write a function that returns the greatest common divisor of all list\n",
        "elements. If the greatest common divisor is 1, return 1.\n",
        "\n",
        "Examples\n",
        "\n",
        "GCD([10, 20, 40]) ➞ 10\n",
        "\n",
        "GCD([1, 2, 3, 100]) ➞ 1\n",
        "\n",
        "GCD([1024, 192, 2048, 512]) ➞ 64"
      ],
      "metadata": {
        "id": "BImxc3eDstFJ"
      }
    },
    {
      "cell_type": "code",
      "source": [
        "def gcd(lst):\n",
        "    gcd = lst[0]\n",
        "    for i in range(1,len(lst)):\n",
        "        large = max(lst[i], gcd)\n",
        "        small = min(lst[i], gcd)\n",
        "        while (large%small != 0):\n",
        "            temp = small\n",
        "            small = large%small\n",
        "            large = temp\n",
        "        gcd = small\n",
        "    print(gcd)\n",
        "\n",
        "gcd([10,20,40])\n",
        "gcd([1,2,3,100])\n",
        "gcd([1024,192,2048,512])"
      ],
      "metadata": {
        "colab": {
          "base_uri": "https://localhost:8080/"
        },
        "id": "F7ml25bhsvvg",
        "outputId": "dd8f0cc2-7fd6-456b-ded7-a4545b571e69"
      },
      "execution_count": 4,
      "outputs": [
        {
          "output_type": "stream",
          "name": "stdout",
          "text": [
            "10\n",
            "1\n",
            "64\n"
          ]
        }
      ]
    },
    {
      "cell_type": "markdown",
      "source": [
        "Q5. A number/string is a palindrome if the digits/characters are the same when\n",
        "read both forward and backward. Examples include &quot;racecar&quot; and 12321.\n",
        "Given a positive number n, check if n or the binary representation of n is\n",
        "palindromic. Return the following:\n",
        "- &quot;Decimal only.&quot; if only n is a palindrome.\n",
        "- &quot;Binary only.&quot; if only the binary representation of n is a palindrome.\n",
        "- &quot;Decimal and binary.&quot; if both are palindromes.\n",
        "- &quot;Neither!&quot; if neither are palindromes.\n",
        "\n",
        "Examples\n",
        "\n",
        "palindrome_type(1306031) ➞ &quot;Decimal only.&quot;\n",
        "\n",
        "decimal = 1306031\n",
        "binary = &quot;100111110110110101111&quot;\n",
        "\n",
        "palindrome_type(427787) ➞ &quot;Binary only.&quot;\n",
        "\n",
        "decimal = 427787\n",
        "\n",
        "binary = &quot;1101000011100001011&quot;\n",
        "\n",
        "palindrome_type(313) ➞ &quot;Decimal and binary.&quot;\n",
        "\n",
        "decimal = 313\n",
        "\n",
        "binary = 100111001\n",
        "\n",
        "palindrome_type(934) ➞ &quot;Neither!&quot;\n",
        "\n",
        "decimal = 934\n",
        "binary = &quot;1110100110&quot;"
      ],
      "metadata": {
        "id": "E3x2H7hcu4He"
      }
    },
    {
      "cell_type": "code",
      "source": [
        "def dec_to_bin(num):\n",
        "    bin = ''\n",
        "    while num/2 > 0:\n",
        "        bin += str(num%2)\n",
        "        num = num//2\n",
        "    return bin, bin[::-1]\n",
        "\n",
        "def palindrome_type(num):\n",
        "    rev = int(str(num)[::-1])\n",
        "    rev_bin, binary = dec_to_bin(num)\n",
        "    if num == rev and binary == rev_bin:\n",
        "        print(\"Decimal and Binary\")\n",
        "    elif num == rev:\n",
        "        print('Decimal Only')\n",
        "    elif binary == rev_bin:\n",
        "        print('Binary Only')\n",
        "    else:\n",
        "        print(\"Neither\")\n",
        "\n",
        "palindrome_type(1306031)\n",
        "palindrome_type(427787)\n",
        "palindrome_type(313)\n",
        "palindrome_type(934)"
      ],
      "metadata": {
        "colab": {
          "base_uri": "https://localhost:8080/"
        },
        "id": "PXA2HlghvDjd",
        "outputId": "60affbab-319d-486f-96f2-e6492481f6c6"
      },
      "execution_count": 5,
      "outputs": [
        {
          "output_type": "stream",
          "name": "stdout",
          "text": [
            "Decimal Only\n",
            "Binary Only\n",
            "Decimal and Binary\n",
            "Neither\n"
          ]
        }
      ]
    }
  ]
}