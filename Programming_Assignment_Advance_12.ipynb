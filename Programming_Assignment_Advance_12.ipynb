{
  "nbformat": 4,
  "nbformat_minor": 0,
  "metadata": {
    "colab": {
      "name": "Programming_Assignment_Advance_12.ipynb",
      "provenance": [],
      "authorship_tag": "ABX9TyOOIkw1iGau4780Uls1VQAY"
    },
    "kernelspec": {
      "name": "python3",
      "display_name": "Python 3"
    },
    "language_info": {
      "name": "python"
    }
  },
  "cells": [
    {
      "cell_type": "markdown",
      "source": [
        "Q1. For this challenge, forget how to add two numbers together. The best\n",
        "explanation on what to do for this function is this meme:\n",
        "\n",
        "Examples\n",
        "\n",
        "meme_sum(26, 39) ➞ 515\n",
        "\n",
        "2+3 = 5, 6+9 = 15\n",
        "\n",
        " 26 + 39 = 515\n",
        "\n",
        "meme_sum(122, 81) ➞ 1103\n",
        "\n",
        " 1+0 = 1, 2+8 = 10, 2+1 = 3\n",
        "\n",
        " 122 + 81 = 1103\n",
        " \n",
        "meme_sum(1222, 30277) ➞ 31499"
      ],
      "metadata": {
        "id": "gsM260GL7K6g"
      }
    },
    {
      "cell_type": "code",
      "execution_count": 1,
      "metadata": {
        "colab": {
          "base_uri": "https://localhost:8080/"
        },
        "id": "f4Vgn3N97KPW",
        "outputId": "64ca7b8d-4a4a-4ba8-9520-30d4a7ec4b1a"
      },
      "outputs": [
        {
          "output_type": "stream",
          "name": "stdout",
          "text": [
            "515\n",
            "1103\n",
            "31499\n"
          ]
        }
      ],
      "source": [
        "def meme_sum(num1,num2):\n",
        "    large = str(max(num1, num2))\n",
        "    small = str(min(num1, num2))\n",
        "    i = 1\n",
        "    sum = ''\n",
        "    while i<=len(large):\n",
        "        if i>len(small):\n",
        "            sum = large[-i] + sum\n",
        "        else:\n",
        "            sum = str(int(large[-i]) + int(small[-i])) + sum\n",
        "        i+=1\n",
        "    print(sum)\n",
        "\n",
        "meme_sum(26,39)\n",
        "meme_sum(122, 81)\n",
        "meme_sum(1222, 30277)"
      ]
    },
    {
      "cell_type": "markdown",
      "source": [
        "Q2. Given an integer, create a function that returns the next prime. If the\n",
        "number is prime, return the number itself.\n",
        "\n",
        "Examples\n",
        "\n",
        "next_prime(12) ➞ 13\n",
        "\n",
        "next_prime(24) ➞ 29\n",
        "\n",
        "next_prime(11) ➞ 11\n",
        "\n",
        "11 is a prime, so we return the number itself."
      ],
      "metadata": {
        "id": "D9mJgtfXAyjw"
      }
    },
    {
      "cell_type": "code",
      "source": [
        "def is_prime(num):\n",
        "    for i in range(2, num-1):\n",
        "        if num%i == 0:\n",
        "            return False\n",
        "    return True\n",
        "\n",
        "def next_prime(num):\n",
        "    while True:\n",
        "        if is_prime(num):\n",
        "            print(num)\n",
        "            return\n",
        "        num+=1\n",
        "\n",
        "next_prime(12)\n",
        "next_prime(24)\n",
        "next_prime(11)"
      ],
      "metadata": {
        "colab": {
          "base_uri": "https://localhost:8080/"
        },
        "id": "X1ODNB3hA40p",
        "outputId": "58fe8888-9b48-465a-a968-ac70cb706ade"
      },
      "execution_count": 2,
      "outputs": [
        {
          "output_type": "stream",
          "name": "stdout",
          "text": [
            "13\n",
            "29\n",
            "11\n"
          ]
        }
      ]
    },
    {
      "cell_type": "markdown",
      "source": [
        "Q3. If a person traveled up a hill for 18mins at 20mph and then traveled back\n",
        "down the same path at 60mph then their average speed traveled was 30mph.\n",
        "Write a function that returns the average speed traveled given an uphill time,\n",
        "uphill rate and a downhill rate. Uphill time is given in minutes. Return the rate\n",
        "as an integer (mph). No rounding is necessary.\n",
        "\n",
        "Examples\n",
        "\n",
        "ave_spd(18, 20, 60) ➞ 30\n",
        "\n",
        "ave_spd(30, 10, 30) ➞ 15\n",
        "\n",
        "ave_spd(30, 8, 24) ➞ 12"
      ],
      "metadata": {
        "id": "116kMqs7CZnf"
      }
    },
    {
      "cell_type": "code",
      "source": [
        "def ave_spd(up_time, up, down):\n",
        "    print((2*(up*down))/(up+down))\n",
        "\n",
        "ave_spd(18,20,60)\n",
        "ave_spd(30,10,30)\n",
        "ave_spd(30,8,24)\n",
        "    "
      ],
      "metadata": {
        "id": "nMs2WoYzCc4o",
        "colab": {
          "base_uri": "https://localhost:8080/"
        },
        "outputId": "10643a81-ab0f-4f5a-e907-9b4be79073cf"
      },
      "execution_count": 3,
      "outputs": [
        {
          "output_type": "stream",
          "name": "stdout",
          "text": [
            "30.0\n",
            "15.0\n",
            "12.0\n"
          ]
        }
      ]
    },
    {
      "cell_type": "markdown",
      "source": [
        "Q4. The Kempner Function, applied to a composite number, permits to find the\n",
        "smallest integer greater than zero whose factorial is exactly divided by the\n",
        "number.\n",
        "\n",
        "kempner(6) ➞ 3\n",
        "\n",
        "1! = 1 % 6 &gt; 0\n",
        "\n",
        "2! = 2 % 6 &gt; 0\n",
        "\n",
        "3! = 6 % 6 === 0\n",
        "\n",
        "kempner(10) ➞ 5\n",
        "\n",
        "1! = 1 % 10 &gt; 0\n",
        "\n",
        "2! = 2 % 10 &gt; 0\n",
        "\n",
        "3! = 6 % 10 &gt; 0\n",
        "\n",
        "4! = 24 % 10 &gt; 0\n",
        "\n",
        "5! = 120 % 10 === 0\n",
        "\n",
        "A Kempner Function applied to a prime will always return the prime itself.\n",
        "\n",
        "kempner(2) ➞ 2\n",
        "\n",
        "kempner(5) ➞ 5\n",
        "\n",
        "Given an integer n, implement a Kempner Function.\n",
        "\n",
        "Examples\n",
        "\n",
        "kempner(6) ➞ 3\n",
        "\n",
        "kempner(10) ➞ 5\n",
        "\n",
        "kempner(2) ➞ 2"
      ],
      "metadata": {
        "id": "WPmvxSEik4Lm"
      }
    },
    {
      "cell_type": "code",
      "source": [
        "def is_prime(num):\n",
        "    for i in range(2,num-1):\n",
        "        if num%i == 0:\n",
        "            return False\n",
        "    return True\n",
        "\n",
        "def fact(num):\n",
        "    if num == 1:\n",
        "        return 1\n",
        "    return num * fact(num-1)\n",
        "\n",
        "def kempner(num):\n",
        "    if is_prime(num):\n",
        "        print(num)\n",
        "        return\n",
        "    else:\n",
        "        for i in range(1,num):\n",
        "            if fact(i)%num == 0:\n",
        "                print(i)\n",
        "                return\n",
        "\n",
        "kempner(6)\n",
        "kempner(10)\n",
        "kempner(2)"
      ],
      "metadata": {
        "colab": {
          "base_uri": "https://localhost:8080/"
        },
        "id": "jnyUMzoIk-rF",
        "outputId": "d6791b0f-69e1-4d2e-fae4-4d08ba1461bc"
      },
      "execution_count": 4,
      "outputs": [
        {
          "output_type": "stream",
          "name": "stdout",
          "text": [
            "3\n",
            "5\n",
            "2\n"
          ]
        }
      ]
    },
    {
      "cell_type": "markdown",
      "source": [
        "Q5. You work in a factory, and your job is to take items from a conveyor belt\n",
        "and pack them into boxes. Each box can hold a maximum of 10 kgs. Given a\n",
        "list containing the weight (in kg) of each item, how many boxes would you\n",
        "need to pack all of the items?\n",
        "\n",
        "Example\n",
        "\n",
        "boxes([2, 1, 2, 5, 4, 3, 6, 1, 1, 9, 3, 2]) ➞ 5\n",
        "\n",
        " Box 1 = [2, 1, 2, 5] (10kg)\n",
        "\n",
        "Box 2 = [4, 3] (7kg)\n",
        "\n",
        "Box 3 = [6, 1, 1] (8kg)\n",
        "\n",
        "Box 4 = [9] (9kg)\n",
        "\n",
        "Box 5 = [3, 2] (5kg)"
      ],
      "metadata": {
        "id": "nuay2brimfnF"
      }
    },
    {
      "cell_type": "code",
      "source": [
        "def boxes(lst):\n",
        "    sum = 0\n",
        "    box = 0\n",
        "    for i in range(len(lst)):\n",
        "        sum += lst[i]\n",
        "        if sum>10:\n",
        "            sum = lst[i]\n",
        "            box += 1\n",
        "        elif sum == 10:\n",
        "            sum = 0\n",
        "            box += 1\n",
        "    if sum > 0 and sum<=10:\n",
        "        box+=1\n",
        "    print(box)\n",
        "\n",
        "boxes([2, 1, 2, 5, 4, 3, 6, 1, 1, 9, 3, 2])"
      ],
      "metadata": {
        "colab": {
          "base_uri": "https://localhost:8080/"
        },
        "id": "sKEItBi5mkBl",
        "outputId": "943d92a5-347d-48df-90f8-fa122a5e7015"
      },
      "execution_count": 5,
      "outputs": [
        {
          "output_type": "stream",
          "name": "stdout",
          "text": [
            "5\n"
          ]
        }
      ]
    }
  ]
}