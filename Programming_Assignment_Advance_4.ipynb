{
  "nbformat": 4,
  "nbformat_minor": 0,
  "metadata": {
    "colab": {
      "name": "Programming_Assignment_Advance_4.ipynb",
      "provenance": [],
      "authorship_tag": "ABX9TyOwZe899RVLiEKTBgZv3BaC"
    },
    "kernelspec": {
      "name": "python3",
      "display_name": "Python 3"
    },
    "language_info": {
      "name": "python"
    }
  },
  "cells": [
    {
      "cell_type": "markdown",
      "source": [
        "Q1. In mathematics, the Fibonacci numbers, commonly denoted Fn, form a\n",
        "sequence, called the Fibonacci sequence, such that each number is the sum\n",
        "of the two preceding ones, starting from 0 and 1:\n",
        "\n",
        "The beginning of the sequence is this:\n",
        "0, 1, 1, 2, 3, 5, 8, 13, 21, 34, 55, 89, 144, ...\n",
        "The function fastFib(num) returns the fibonacci number Fn, of the given num\n",
        "as an argument.\n",
        "\n",
        "Examples\n",
        "\n",
        "fib_fast(5) ➞ 5\n",
        "\n",
        "fib_fast(10) ➞ 55\n",
        "\n",
        "fib_fast(20) ➞ 6765\n",
        "\n",
        "fib_fast(50) ➞ 12586269025"
      ],
      "metadata": {
        "id": "HExunYQVd_Dh"
      }
    },
    {
      "cell_type": "code",
      "execution_count": 1,
      "metadata": {
        "colab": {
          "base_uri": "https://localhost:8080/"
        },
        "id": "DNTOl7Qrd9d_",
        "outputId": "95e360f9-0b9a-4ec3-9068-07786ad6661f"
      },
      "outputs": [
        {
          "output_type": "stream",
          "name": "stdout",
          "text": [
            "5\n",
            "55\n",
            "6765\n",
            "12586269025\n"
          ]
        }
      ],
      "source": [
        "def fib_fast(num):\n",
        "    fib_seq = [0,1]\n",
        "    [fib_seq.append(fib_seq[-1]+fib_seq[-2]) for n in range(num)]\n",
        "    print(fib_seq[num])\n",
        "\n",
        "\n",
        "fib_fast(5)\n",
        "fib_fast(10)\n",
        "fib_fast(20)\n",
        "fib_fast(50)"
      ]
    },
    {
      "cell_type": "markdown",
      "source": [
        "Q2. Create a function that takes a strings characters as ASCII and returns each\n",
        "characters hexadecimal value as a string.\n",
        "\n",
        "Examples\n",
        "\n",
        "convert_to_hex(&quot;hello world&quot;) ➞ &quot;68 65 6c 6c 6f 20 77 6f 72 6c 64&quot;\n",
        "\n",
        "convert_to_hex(&quot;Big Boi&quot;) ➞ &quot;42 69 67 20 42 6f 69&quot;\n",
        "\n",
        "convert_to_hex(&quot;Marty Poppinson&quot;) ➞ &quot;4d 61 72 74 79 20 50 6f 70 70 69 6e\n",
        "73 6f 6e&quot;"
      ],
      "metadata": {
        "id": "7XTlsdB3g3te"
      }
    },
    {
      "cell_type": "code",
      "source": [
        "def convert_to_hex(string):\n",
        "    hex_dec = ''\n",
        "    for i in range(len(string)):\n",
        "        char = string[i]\n",
        "        ch = ord(char)\n",
        "        part = hex(ch).lstrip('0x').lstrip('L')\n",
        "        hex_dec += part + ' '\n",
        "    print(hex_dec)\n",
        "\n",
        "convert_to_hex('hello World')\n",
        "convert_to_hex(\"Big Boi\")\n",
        "convert_to_hex(\"Marty Poppinson\")"
      ],
      "metadata": {
        "colab": {
          "base_uri": "https://localhost:8080/"
        },
        "id": "pvlaLhQ9g6zV",
        "outputId": "9fab781f-4ccc-4ec1-c369-5f693ad5382f"
      },
      "execution_count": 2,
      "outputs": [
        {
          "output_type": "stream",
          "name": "stdout",
          "text": [
            "68 65 6c 6c 6f 20 57 6f 72 6c 64 \n",
            "42 69 67 20 42 6f 69 \n",
            "4d 61 72 74 79 20 50 6f 70 70 69 6e 73 6f 6e \n"
          ]
        }
      ]
    },
    {
      "cell_type": "markdown",
      "source": [
        "Q3. Someone has attempted to censor my strings by replacing every vowel\n",
        "with a *, l*k* th*s. Luckily, I&#39;ve been able to find the vowels that were\n",
        "removed.\n",
        "Given a censored string and a string of the censored vowels, return the\n",
        "original uncensored string.\n",
        "\n",
        "Example\n",
        "\n",
        "uncensor(&quot;Wh* r* d* d my v* w* ls g*?&quot;, &quot;eeioeo&quot;) ➞ &quot;Where did my vowels go?&quot;\n",
        "\n",
        "uncensor(&quot;abcd&quot;, &quot;&quot;) ➞ &quot;abcd&quot;\n",
        "\n",
        "uncensor(&quot;* PP* RC* S*&quot;, &quot;UEAE&quot;) ➞ &quot;UPPERCASE&quot;"
      ],
      "metadata": {
        "id": "5-BI-gRrkn4x"
      }
    },
    {
      "cell_type": "code",
      "source": [
        "def uncensor(string, vowels):\n",
        "    j = 0\n",
        "    for i in string:\n",
        "        if i == '*':\n",
        "            string = string.replace(i,vowels[j],1)\n",
        "            j += 1\n",
        "    print(string)\n",
        "            \n",
        "uncensor('Wh*r* d*d my v*w*ls g*?', 'eeioeo')\n",
        "uncensor(\"abcd\", \"\")\n",
        "uncensor(\"*PP*RC*S*\", \"UEAE\") "
      ],
      "metadata": {
        "colab": {
          "base_uri": "https://localhost:8080/"
        },
        "id": "qq7A-6-TkrI4",
        "outputId": "52b4ce1a-b49e-4196-e370-6b5878674bad"
      },
      "execution_count": 3,
      "outputs": [
        {
          "output_type": "stream",
          "name": "stdout",
          "text": [
            "Where did my vowels go?\n",
            "abcd\n",
            "UPPERCASE\n"
          ]
        }
      ]
    },
    {
      "cell_type": "markdown",
      "source": [
        "Q4. Write a function that takes an IP address and returns the domain name\n",
        "using PTR DNS records.\n",
        "\n",
        "Example\n",
        "\n",
        "get_domain(&quot;8.8.8.8&quot;) ➞ &quot;dns.google&quot;\n",
        "\n",
        "get_domain(&quot;8.8.4.4&quot;) ➞ &quot;dns.google&quot;\n"
      ],
      "metadata": {
        "id": "rTxNkX89l_lH"
      }
    },
    {
      "cell_type": "code",
      "source": [
        "def get_domain(ip_address):\n",
        "    import socket\n",
        "    result = socket.gethostbyaddr(ip_address)[0]\n",
        "    print(result)\n",
        "\n",
        "get_domain('8.8.8.8')\n",
        "get_domain('8.8.4.4')"
      ],
      "metadata": {
        "colab": {
          "base_uri": "https://localhost:8080/"
        },
        "id": "9gtPZmYMmDq3",
        "outputId": "48414e7e-1a04-40fc-8535-1bb09c8d752f"
      },
      "execution_count": 4,
      "outputs": [
        {
          "output_type": "stream",
          "name": "stdout",
          "text": [
            "dns.google\n",
            "dns.google\n"
          ]
        }
      ]
    },
    {
      "cell_type": "markdown",
      "source": [
        "Q5. Create a function that takes an integer n and returns the factorial of\n",
        "factorials. See below examples for a better understanding:\n",
        "\n",
        "Examples\n",
        "\n",
        "fact_of_fact(4) ➞ 288\n",
        "\n",
        "4! * 3! * 2! * 1! = 288\n",
        "\n",
        "fact_of_fact(5) ➞ 34560\n",
        "\n",
        "fact_of_fact(6) ➞ 24883200"
      ],
      "metadata": {
        "id": "jT-bwxxbmEDW"
      }
    },
    {
      "cell_type": "code",
      "source": [
        "def fact(num):\n",
        "    if num == 1:\n",
        "        return 1\n",
        "    return num * fact(num-1)\n",
        "\n",
        "def fact_of_fact(num):\n",
        "    if num == 1:\n",
        "        return 1\n",
        "    return fact(num) * fact_of_fact(num-1)\n",
        "\n",
        "print(fact_of_fact(4))\n",
        "print(fact_of_fact(5))\n",
        "print(fact_of_fact(6))"
      ],
      "metadata": {
        "colab": {
          "base_uri": "https://localhost:8080/"
        },
        "id": "E1Ky_CWDmH_Y",
        "outputId": "70c96f4b-6506-4850-aea0-4785f6f343de"
      },
      "execution_count": 5,
      "outputs": [
        {
          "output_type": "stream",
          "name": "stdout",
          "text": [
            "288\n",
            "34560\n",
            "24883200\n"
          ]
        }
      ]
    }
  ]
}