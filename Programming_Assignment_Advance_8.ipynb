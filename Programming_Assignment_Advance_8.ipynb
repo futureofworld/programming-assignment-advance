{
  "nbformat": 4,
  "nbformat_minor": 0,
  "metadata": {
    "colab": {
      "name": "Programming_Assignment_Advance_8.ipynb",
      "provenance": [],
      "authorship_tag": "ABX9TyP5SV1AcrWdxWYbKSHcQtAY"
    },
    "kernelspec": {
      "name": "python3",
      "display_name": "Python 3"
    },
    "language_info": {
      "name": "python"
    }
  },
  "cells": [
    {
      "cell_type": "markdown",
      "source": [
        "Q1. YouTube offers different playback speed options for users. This allows\n",
        "users to increase or decrease the speed of the video content. Given the\n",
        "actual duration and playback speed of the video, calculate the playback\n",
        "duration of the video.\n",
        "\n",
        "Examples\n",
        "\n",
        "playback_duration(&quot;00:30:00&quot;, 2) ➞ &quot;00:15:00&quot;\n",
        "\n",
        "playback_duration(&quot;01:20:00&quot;, 1.5) ➞ &quot;00:53:20&quot;\n",
        "\n",
        "playback_duration(&quot;51:20:09&quot;, 0.5) ➞ &quot;102:40:18&quot;"
      ],
      "metadata": {
        "id": "GcJp28h1yph3"
      }
    },
    {
      "cell_type": "code",
      "execution_count": 1,
      "metadata": {
        "colab": {
          "base_uri": "https://localhost:8080/",
          "height": 130
        },
        "id": "1C1f6jStynfl",
        "outputId": "0f3aa8f4-bfde-42b6-9953-81220a1f0508"
      },
      "outputs": [
        {
          "output_type": "error",
          "ename": "SyntaxError",
          "evalue": "ignored",
          "traceback": [
            "\u001b[0;36m  File \u001b[0;32m\"<ipython-input-1-074efb510bea>\"\u001b[0;36m, line \u001b[0;32m2\u001b[0m\n\u001b[0;31m    \u001b[0m\n\u001b[0m    ^\u001b[0m\n\u001b[0;31mSyntaxError\u001b[0m\u001b[0;31m:\u001b[0m unexpected EOF while parsing\n"
          ]
        }
      ],
      "source": [
        ""
      ]
    },
    {
      "cell_type": "markdown",
      "source": [
        "Q2. We needs your help to construct a building which will be a pile of n cubes.\n",
        "The cube at the bottom will have a volume of n^3, the cube above will have\n",
        "volume of (n-1)^3 and so on until the top which will have a volume of 1^3.\n",
        "Given the total volume m of the building, can you find the number of cubes n\n",
        "required for the building?\n",
        "In other words, you have to return an integer n such that:\n",
        "n^3 + (n-1)^3 + ... + 1^3 == m\n",
        "Return None if there is no such number.\n",
        "\n",
        "Examples\n",
        "\n",
        "pile_of_cubes(1071225) ➞ 45\n",
        "\n",
        "pile_of_cubes(4183059834009) ➞ 2022\n",
        "\n",
        "pile_of_cubes(16) ➞ None"
      ],
      "metadata": {
        "id": "jF506XGF2Jji"
      }
    },
    {
      "cell_type": "code",
      "source": [
        "def pile_of_cubes(volume):\n",
        "    sum_of_cubes = 0\n",
        "    num_of_cubes = 0\n",
        "    while volume > sum_of_cubes:\n",
        "        sum_of_cubes += num_of_cubes**3\n",
        "        if sum_of_cubes == volume:\n",
        "            return num_of_cubes\n",
        "        elif sum_of_cubes > volume:\n",
        "            return None\n",
        "        num_of_cubes += 1\n",
        "\n",
        "print(pile_of_cubes(1071225))\n",
        "print(pile_of_cubes(4183059834009))\n",
        "print(pile_of_cubes(16))"
      ],
      "metadata": {
        "colab": {
          "base_uri": "https://localhost:8080/"
        },
        "id": "C3YojQ702OMR",
        "outputId": "83e5ade8-07b6-4e80-ca0c-fe73da4f099b"
      },
      "execution_count": 2,
      "outputs": [
        {
          "output_type": "stream",
          "name": "stdout",
          "text": [
            "45\n",
            "2022\n",
            "None\n"
          ]
        }
      ]
    },
    {
      "cell_type": "markdown",
      "source": [
        "Q3. A fulcrum of a list is an integer such that all elements to the left of it and all\n",
        "elements to the right of it sum to the same value. Write a function that finds\n",
        "the fulcrum of a list.\n",
        "To illustrate:\n",
        "\n",
        "find_fulcrum([3, 1, 5, 2, 4, 6, -1]) ➞ 2\n",
        "\n",
        "// Since [3, 1, 5] and [4, 6, -1] both sum to 9\n",
        "\n",
        "Examples\n",
        "\n",
        "find_fulcrum([1, 2, 4, 9, 10, -10, -9, 3]) ➞ 4\n",
        "\n",
        "find_fulcrum([9, 1, 9]) ➞ 1\n",
        "\n",
        "find_fulcrum([7, -1, 0, -1, 1, 1, 2, 3]) ➞ 0\n",
        "\n",
        "find_fulcrum([8, 8, 8, 8]) ➞ -1"
      ],
      "metadata": {
        "id": "49kkpFju50xG"
      }
    },
    {
      "cell_type": "code",
      "source": [
        "def find_fulcrum(lst):\n",
        "    for i in range(len(lst)):\n",
        "        j = 0\n",
        "        right_sum = 0\n",
        "        while j<i:\n",
        "            right_sum += lst[j]\n",
        "            j+=1\n",
        "        \n",
        "        left_sum = 0\n",
        "        k = len(lst)-1\n",
        "        while k>i:\n",
        "            left_sum += lst[k]\n",
        "            k-=1\n",
        "\n",
        "        if left_sum == right_sum:\n",
        "            return lst[i]\n",
        "\n",
        "    return -1\n",
        "\n",
        "print(find_fulcrum([3, 1, 5, 2, 4, 6, -1]))\n",
        "print(find_fulcrum([1, 2, 4, 9, 10, -10, -9, 3]))\n",
        "print(find_fulcrum([9, 1, 9]))\n",
        "print(find_fulcrum([7, -1, 0, -1, 1, 1, 2, 3]))\n",
        "print(find_fulcrum([8, 8, 8, 8]))"
      ],
      "metadata": {
        "colab": {
          "base_uri": "https://localhost:8080/"
        },
        "id": "7JJDJo4T55ds",
        "outputId": "8ad0395e-2635-4a04-b634-763ec221094b"
      },
      "execution_count": 3,
      "outputs": [
        {
          "output_type": "stream",
          "name": "stdout",
          "text": [
            "2\n",
            "4\n",
            "1\n",
            "0\n",
            "-1\n"
          ]
        }
      ]
    },
    {
      "cell_type": "markdown",
      "source": [
        "Q4. Given a list of integers representing the color of each sock, determine how\n",
        "many pairs of socks with matching colors there are. For example, there are 7\n",
        "socks with colors [1, 2, 1, 2, 1, 3, 2]. There is one pair of color 1 and one of\n",
        "color 2. There are three odd socks left, one of each color. The number of\n",
        "pairs is 2.\n",
        "Create a function that returns an integer representing the number of matching\n",
        "pairs of socks that are available.\n",
        "\n",
        "Examples\n",
        "\n",
        "sock_merchant([10, 20, 20, 10, 10, 30, 50, 10, 20]) ➞ 3\n",
        "\n",
        "sock_merchant([50, 20, 30, 90, 30, 20, 50, 20, 90]) ➞ 4\n",
        "\n",
        "sock_merchant([]) ➞ 0"
      ],
      "metadata": {
        "id": "8rGujKsP75AS"
      }
    },
    {
      "cell_type": "code",
      "source": [
        "def sock_merchant(lst):\n",
        "    odd_sock = []\n",
        "    pair = 0\n",
        "    for i in lst:\n",
        "        if i in odd_sock:\n",
        "            pair += 1\n",
        "            odd_sock.remove(i)\n",
        "        else:\n",
        "            odd_sock.append(i)\n",
        "    print(pair)\n",
        "\n",
        "sock_merchant([10, 20, 20, 10, 10, 30, 50, 10, 20])\n",
        "sock_merchant([50, 20, 30, 90, 30, 20, 50, 20, 90])\n",
        "sock_merchant([])"
      ],
      "metadata": {
        "colab": {
          "base_uri": "https://localhost:8080/"
        },
        "id": "48NsSpJK77Vq",
        "outputId": "ac8713aa-6237-4551-b8bc-195238f5e4aa"
      },
      "execution_count": 4,
      "outputs": [
        {
          "output_type": "stream",
          "name": "stdout",
          "text": [
            "3\n",
            "4\n",
            "0\n"
          ]
        }
      ]
    },
    {
      "cell_type": "markdown",
      "source": [
        "Q5. Create a function that takes a string containing integers as well as other\n",
        "characters and return the sum of the negative integers only.\n",
        "\n",
        "Examples\n",
        "\n",
        "negative_sum(&quot;-12 13%14&amp;-11&quot;) ➞ -23\n",
        "\n",
        "-12 + -11 = -23\n",
        "\n",
        "negative_sum(&quot;22 13%14&amp;-11-22 13 12&quot;) ➞ -33\n",
        "\n",
        "-11 + -22 = -33"
      ],
      "metadata": {
        "id": "-QzigfHm8zyA"
      }
    },
    {
      "cell_type": "code",
      "source": [
        "def negative_sum(string):\n",
        "    sum = 0\n",
        "    for i in range(len(string)):\n",
        "        if string[i] == '-':\n",
        "            sum += int(string[i+1]+string[i+2])\n",
        "            i+= 2\n",
        "    print(f'-{sum}')\n",
        "\n",
        "negative_sum(\"-12 13%14&-11\")\n",
        "negative_sum(\"22 13%14&-11-22 13 12\")"
      ],
      "metadata": {
        "colab": {
          "base_uri": "https://localhost:8080/"
        },
        "id": "6PzxoIo68zge",
        "outputId": "22772d2c-d61e-4608-eb16-80c0736d92a4"
      },
      "execution_count": 5,
      "outputs": [
        {
          "output_type": "stream",
          "name": "stdout",
          "text": [
            "-23\n",
            "-33\n"
          ]
        }
      ]
    }
  ]
}