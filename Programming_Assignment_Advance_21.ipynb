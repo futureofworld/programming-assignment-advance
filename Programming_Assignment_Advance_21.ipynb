{
  "nbformat": 4,
  "nbformat_minor": 0,
  "metadata": {
    "colab": {
      "name": "Programming_Assignment_Advance_21.ipynb",
      "provenance": [],
      "authorship_tag": "ABX9TyM0g77s0NrRxRvWQWnuUClD"
    },
    "kernelspec": {
      "name": "python3",
      "display_name": "Python 3"
    },
    "language_info": {
      "name": "python"
    }
  },
  "cells": [
    {
      "cell_type": "markdown",
      "source": [
        "Q1. Given a sentence, return the number of words which have the same first\n",
        "and last letter.\n",
        "\n",
        "Examples\n",
        "\n",
        "count_same_ends(&quot;Pop! goes the balloon&quot;) ➞ 1\n",
        "\n",
        "count_same_ends(&quot;And the crowd goes wild!&quot;) ➞ 0\n",
        "\n",
        "count_same_ends(&quot;No I am not in a gang.&quot;) ➞ 1"
      ],
      "metadata": {
        "id": "u83yw6wHJOZ0"
      }
    },
    {
      "cell_type": "code",
      "execution_count": 1,
      "metadata": {
        "colab": {
          "base_uri": "https://localhost:8080/"
        },
        "id": "5ptzIbZ5JKia",
        "outputId": "b54c4a93-ebcf-4c87-db4e-1fda9b0ec2d3"
      },
      "outputs": [
        {
          "output_type": "stream",
          "name": "stdout",
          "text": [
            "1\n",
            "0\n",
            "1\n"
          ]
        }
      ],
      "source": [
        "import re\n",
        "def count_same_ends(txt):\n",
        "    result = re.sub('[!.]', '', txt)\n",
        "    txt = result.split(' ')\n",
        "    same = 0\n",
        "    for i in txt:\n",
        "        if len(i)>1 and i.lower()[0] == i.lower()[-1]:\n",
        "            same += 1\n",
        "    print(same)\n",
        "\n",
        "count_same_ends(\"Pop! goes the balloon.\")\n",
        "count_same_ends(\"And the crowd goes wild!\")\n",
        "count_same_ends(\"No I am not in a gang.\")"
      ]
    },
    {
      "cell_type": "markdown",
      "source": [
        "Q2. The Atbash cipher is an encryption method in which each letter of a word is\n",
        "replaced with its &quot;mirror&quot; letter in the alphabet: A &lt;=&gt; Z; B &lt;=&gt; Y; C &lt;=&gt; X;\n",
        "etc.\n",
        "Create a function that takes a string and applies the Atbash cipher to it.\n",
        "\n",
        "Examples\n",
        "\n",
        "atbash(&quot;apple&quot;) ➞ &quot;zkkov&quot;\n",
        "\n",
        "atbash(&quot;Hello world!&quot;) ➞ &quot;Svool dliow!&quot;\n",
        "\n",
        "atbash(&quot;Christmas is the 25th of December&quot;) ➞ &quot;\n",
        "Xsirhgnzh rh gsv 25gs lu\n",
        "Wvxvnyvi&quot;"
      ],
      "metadata": {
        "id": "uqHc8zGuJSpM"
      }
    },
    {
      "cell_type": "code",
      "source": [
        "def atbash(txt):\n",
        "    new_txt = ''\n",
        "    for i in txt:\n",
        "        if i.islower() and i.isalpha():\n",
        "            new_txt += chr(ord('z') - ord(i) + 97)\n",
        "        elif i.isupper() and i.isalpha():\n",
        "            new_txt += chr(ord('Z')-ord(i)+65)\n",
        "        else:\n",
        "            new_txt += i\n",
        "    print(new_txt)\n",
        "\n",
        "atbash('apple')\n",
        "atbash(\"Hello world!\")\n",
        "atbash(\"Christmas is the 25th of December\")"
      ],
      "metadata": {
        "colab": {
          "base_uri": "https://localhost:8080/"
        },
        "id": "iIdykBHsO2il",
        "outputId": "48fcf66a-0d24-4607-b70a-8e40ea33b571"
      },
      "execution_count": 2,
      "outputs": [
        {
          "output_type": "stream",
          "name": "stdout",
          "text": [
            "zkkov\n",
            "Svool dliow!\n",
            "Xsirhgnzh rh gsv 25gs lu Wvxvnyvi\n"
          ]
        }
      ]
    },
    {
      "cell_type": "markdown",
      "source": [
        "Q3. Create a class Employee that will take a full name as argument, as well as\n",
        "a set of none, one or more keywords. Each instance should have a name and\n",
        "a lastname attributes plus one more attribute for each of the keywords, if any.\n",
        "\n",
        "Examples\n",
        "\n",
        "john = Employee(&quot;John Doe&quot;)\n",
        "\n",
        "mary = Employee(&quot;Mary Major&quot;, salary=120000)\n",
        "\n",
        "richard = Employee(&quot;Richard Roe&quot;, salary=110000, height=178)\n",
        "\n",
        "giancarlo = Employee(&quot;Giancarlo Rossi&quot;, salary=115000, \n",
        "height=182,\n",
        "nationality=&quot;Italian&quot;)\n",
        "\n",
        "john.name ➞ &quot;John&quot;\n",
        "\n",
        "mary.lastname ➞ &quot;Major&quot;\n",
        "\n",
        "richard.height ➞ 178\n",
        "\n",
        "giancarlo.nationality ➞ &quot;Italian&quot;"
      ],
      "metadata": {
        "id": "tz3CdXxKJYyz"
      }
    },
    {
      "cell_type": "code",
      "source": [
        "class Employee:\n",
        "    def __init__(self, name, salary=None, height=None, nationality=None):\n",
        "        self.name = name.split()[0]\n",
        "        self.lastname = name.split()[1]\n",
        "        self.height = height\n",
        "        self.nationality = nationality\n",
        "        \n",
        "john = Employee('john Doe')\n",
        "mary = Employee(\"Mary Major\", salary=120000)\n",
        "richard = Employee(\"Richard Roe\", salary=110000, height=178)\n",
        "giancarlo = Employee(\"Giancarlo Rossi\", salary=115000, height=182, nationality=\"Italian\")\n",
        "\n",
        "print(john.name)\n",
        "print(mary.lastname)\n",
        "print(richard.height)\n",
        "print(giancarlo.nationality)"
      ],
      "metadata": {
        "colab": {
          "base_uri": "https://localhost:8080/"
        },
        "id": "DgNjnzbnJkh8",
        "outputId": "f2e83727-9796-49b7-9b07-d26df04097f2"
      },
      "execution_count": 3,
      "outputs": [
        {
          "output_type": "stream",
          "name": "stdout",
          "text": [
            "john\n",
            "Major\n",
            "178\n",
            "Italian\n"
          ]
        }
      ]
    },
    {
      "cell_type": "markdown",
      "source": [
        "Q4. Create a function that determines whether each seat can &quot;see&quot; the front-\n",
        "stage. A number can &quot;see&quot; the front-stage if it is strictly greater than the\n",
        "number before it.\n",
        "Everyone can see the front-stage in the example below:\n",
        "\n",
        "FRONT STAGE\n",
        "\n",
        "[[1, 2, 3, 2, 1, 1],\n",
        "\n",
        "[2, 4, 4, 3, 2, 2],\n",
        "\n",
        "[5, 5, 5, 5, 4, 4],\n",
        "\n",
        "[6, 6, 7, 6, 5, 5]]\n",
        "\n",
        "Starting from the left, the 6 &gt; 5 &gt; 2 &gt; 1, so all numbers can see.\n",
        "\n",
        " 6 &gt; 5 &gt; 4 &gt; 2 - so all numbers can see, etc.\n",
        "Not everyone can see the front-stage in the example below:\n",
        "\n",
        " FRONT STAGE\n",
        "\n",
        "[[1, 2, 3, 2, 1, 1],\n",
        "\n",
        "[2, 4, 4, 3, 2, 2],\n",
        "\n",
        "[5, 5, 5, 10, 4, 4],\n",
        "\n",
        "[6, 6, 7, 6, 5, 5]]\n",
        "\n",
        "The 10 is directly in front of the 6 and blocking its view.\n",
        "The function should return True if every number can see the front-stage, and\n",
        "False if even a single number cannot.\n",
        "\n",
        "Examples\n",
        "\n",
        "can_see_stage([\n",
        "[1, 2, 3],\n",
        "[4, 5, 6],\n",
        "[7, 8, 9]\n",
        "]) ➞ True\n",
        "\n",
        "can_see_stage([\n",
        "[0, 0, 0],\n",
        "[1, 1, 1],\n",
        "[2, 2, 2]\n",
        "]) ➞ True\n",
        "\n",
        "can_see_stage([\n",
        "[2, 0, 0],\n",
        "[1, 1, 1],\n",
        "[2, 2, 2]\n",
        "]) ➞ False\n",
        "\n",
        "can_see_stage([\n",
        "[1, 0, 0],\n",
        "[1, 1, 1],\n",
        "[2, 2, 2]\n",
        "]) ➞ False\n",
        "\n",
        "Number must be strictly smaller than\n",
        "the number directly behind it."
      ],
      "metadata": {
        "id": "dMxx6Cn0Jk1Z"
      }
    },
    {
      "cell_type": "code",
      "source": [
        "def can_see_stage(lst):\n",
        "    row = len(lst)\n",
        "    col = len(lst[0])\n",
        "    for i in range(col):\n",
        "        for j in range(row):\n",
        "            if j == 0:\n",
        "                small = lst[j][i]\n",
        "            elif small >= lst[j][i]:\n",
        "                print(False)\n",
        "                return\n",
        "            else:\n",
        "                small = lst[j][i]\n",
        "    print(True)\n",
        "\n",
        "can_see_stage([[1, 2, 3], [4, 5, 6], [7, 8, 9]])\n",
        "can_see_stage([[0, 0, 0], [1, 1, 1], [2, 2, 2]])\n",
        "can_see_stage([[2, 0, 0], [1, 1, 1], [2, 2, 2]])\n",
        "can_see_stage([[1, 0, 0], [1, 1, 1], [2, 2, 2]])"
      ],
      "metadata": {
        "id": "85d0M8DKJ3oy",
        "colab": {
          "base_uri": "https://localhost:8080/"
        },
        "outputId": "db7a6c50-0ec2-4ada-93d5-bf23ff63f66d"
      },
      "execution_count": 4,
      "outputs": [
        {
          "output_type": "stream",
          "name": "stdout",
          "text": [
            "True\n",
            "True\n",
            "False\n",
            "False\n"
          ]
        }
      ]
    },
    {
      "cell_type": "markdown",
      "source": [
        "Q5. Create a Pizza class with the attributes order_number and ingredients\n",
        "(which is given as a list). Only the ingredients will be given as input.\n",
        "You should also make it so that its possible to choose a ready made pizza\n",
        "flavour rather than typing out the ingredients manually! As well as creating\n",
        "this Pizza class, hard-code the following pizza flavours.\n",
        "\n",
        "Name  | Ingredients\n",
        "-------------------|------------------\n",
        "hawaiian        | ham, pineapple \n",
        "meat_festival       | beef, meatball, bacon\n",
        "garden_feast        | spinach, olives, mushroom\n",
        "\n",
        "Examples\n",
        "\n",
        "p1 = Pizza([&quot;bacon&quot;, &quot;parmesan&quot;, &quot;ham&quot;]) # order 1\n",
        "\n",
        "p2 = Pizza.garden_feast() # order 2\n",
        "\n",
        "p1.ingredients ➞ [&quot;bacon&quot;, &quot;parmesan&quot;, &quot;ham&quot;]\n",
        "\n",
        "p2.ingredients ➞ [&quot;spinach&quot;, &quot;olives&quot;, &quot;mushroom&quot;]\n",
        "\n",
        "p1.order_number ➞ 1\n",
        "\n",
        "p2.order_number ➞ 2"
      ],
      "metadata": {
        "id": "8I3L1vXxJ33Z"
      }
    },
    {
      "cell_type": "code",
      "source": [
        ""
      ],
      "metadata": {
        "id": "gdmEKmP5XAPz"
      },
      "execution_count": 4,
      "outputs": []
    }
  ]
}