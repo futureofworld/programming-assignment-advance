{
  "nbformat": 4,
  "nbformat_minor": 0,
  "metadata": {
    "colab": {
      "name": "Programming_Assignment_Advance_20.ipynb",
      "provenance": [],
      "authorship_tag": "ABX9TyM5GLCOY8ljXb1hbjQPPlwl"
    },
    "kernelspec": {
      "name": "python3",
      "display_name": "Python 3"
    },
    "language_info": {
      "name": "python"
    }
  },
  "cells": [
    {
      "cell_type": "markdown",
      "source": [
        "Q1. Create a function based on the input and output. Look at the examples,\n",
        "there is a pattern.\n",
        "\n",
        "Examples\n",
        "\n",
        "secret(&quot;p.one.two.three&quot;) ➞ &quot;&lt;p class=&#39;one two three&#39;&gt;&lt;/p&gt;&quot;\n",
        "\n",
        "secret(&quot;p.one&quot;) ➞ &quot;&lt;p class=&#39;one&#39;&gt;&lt;/p&gt;&quot;\n",
        "\n",
        "secret(&quot;p.four.five&quot;) ➞ &quot;&lt;p class=&#39;four five&#39;&gt;&lt;/p&gt;&quot;"
      ],
      "metadata": {
        "id": "KSh4Z-eulK7E"
      }
    },
    {
      "cell_type": "code",
      "execution_count": 1,
      "metadata": {
        "colab": {
          "base_uri": "https://localhost:8080/"
        },
        "id": "bjq_8230lBw4",
        "outputId": "389c6f8c-ed5f-4cc3-9f03-4a4f3bb835a2"
      },
      "outputs": [
        {
          "output_type": "stream",
          "name": "stdout",
          "text": [
            "<p class = 'one two three'></p>\n",
            "<p class = 'one'></p>\n",
            "<p class = 'four five'></p>\n"
          ]
        }
      ],
      "source": [
        "def secret(txt):\n",
        "    lst = txt.split('.')\n",
        "    p_tag = f\"<{lst[0]} class = '\"\n",
        "    for i in range(1, len(lst)):\n",
        "        if i != len(lst)-1:\n",
        "            p_tag += (lst[i]+ ' ')\n",
        "        else:\n",
        "            p_tag += (lst[i])\n",
        "    p_tag += f\"'></{lst[0]}>\"\n",
        "    print(p_tag)\n",
        "\n",
        "secret(\"p.one.two.three\")\n",
        "secret(\"p.one\")\n",
        "secret(\"p.four.five\")"
      ]
    },
    {
      "cell_type": "markdown",
      "source": [
        "Q2. Create a function which counts how many lone 1s appear in a given\n",
        "number. Lone means the number doesn&#39;t appear twice or more in a row.\n",
        "\n",
        "Examples\n",
        "\n",
        "count_lone_ones(101) ➞ 2\n",
        "\n",
        "count_lone_ones(1191) ➞ 1\n",
        "\n",
        "count_lone_ones(1111) ➞ 0\n",
        "\n",
        "count_lone_ones(462) ➞ 0"
      ],
      "metadata": {
        "id": "qve956RYm5VI"
      }
    },
    {
      "cell_type": "code",
      "source": [
        "def count_lone_ones(num):\n",
        "    num = str(num)\n",
        "    lone_one = 0\n",
        "    for i in range(len(num)):\n",
        "        if i == 0 and num[i] == '1' and num[i+1] != '1':\n",
        "            lone_one += 1\n",
        "        elif i == len(num)-1 and num[i] == '1' and num[i] != num[i-1]:\n",
        "            lone_one += 1\n",
        "        elif num[i] == '1' and num[i-1] != '1' and num[i+1] != 1:\n",
        "            lone_one += 1\n",
        "    print(lone_one)\n",
        "\n",
        "count_lone_ones(101)\n",
        "count_lone_ones(1191)\n",
        "count_lone_ones(1111)\n",
        "count_lone_ones(462)"
      ],
      "metadata": {
        "colab": {
          "base_uri": "https://localhost:8080/"
        },
        "id": "dqaY-SHBm8I4",
        "outputId": "f988748c-9de3-42b1-beef-851d090a2b15"
      },
      "execution_count": 2,
      "outputs": [
        {
          "output_type": "stream",
          "name": "stdout",
          "text": [
            "2\n",
            "1\n",
            "0\n",
            "0\n"
          ]
        }
      ]
    },
    {
      "cell_type": "markdown",
      "source": [
        "Q3. Write a method that accepts two integer parameters rows and cols. The\n",
        "output is a 2d array of numbers displayed in column-major order, meaning the\n",
        "numbers shown increase sequentially down each column and wrap to the top\n",
        "of the next column to the right once the bottom of the current column is\n",
        "reached.\n",
        "\n",
        "Examples\n",
        "\n",
        "printGrid(3, 6) ➞ [\n",
        "[1, 4, 7, 10, 13, 16],\n",
        "[2, 5, 8, 11, 14, 17],\n",
        "[3, 6, 9, 12, 15, 18]\n",
        "]\n",
        "\n",
        "printGrid(5, 3) ➞ [\n",
        "[1, 6, 11],\n",
        "[2, 7, 12],\n",
        "[3, 8, 13],\n",
        "[4, 9, 14],\n",
        "[5, 10, 15]\n",
        "]\n",
        "\n",
        "printGrid(4, 1) ➞ [\n",
        "[1],\n",
        "[2],\n",
        "[3],\n",
        "[4]\n",
        "]"
      ],
      "metadata": {
        "id": "Y4_JZckkofhf"
      }
    },
    {
      "cell_type": "code",
      "source": [
        "def printGrid(row,col):\n",
        "    lst = []\n",
        "    k = 1\n",
        "    for i in range(row):\n",
        "        new_lst = []\n",
        "        for j in range(col):\n",
        "            new_lst.append(k + 3*j)\n",
        "        lst.append(new_lst)\n",
        "        k += 1\n",
        "    print(lst)\n",
        "\n",
        "printGrid(3, 6)\n",
        "printGrid(5, 3)\n",
        "printGrid(4, 1)"
      ],
      "metadata": {
        "id": "v-SfjnB9oii2",
        "colab": {
          "base_uri": "https://localhost:8080/"
        },
        "outputId": "ec434ee2-647e-48af-9c8d-9c34340e39c1"
      },
      "execution_count": 3,
      "outputs": [
        {
          "output_type": "stream",
          "name": "stdout",
          "text": [
            "[[1, 4, 7, 10, 13, 16], [2, 5, 8, 11, 14, 17], [3, 6, 9, 12, 15, 18]]\n",
            "[[1, 4, 7], [2, 5, 8], [3, 6, 9], [4, 7, 10], [5, 8, 11]]\n",
            "[[1], [2], [3], [4]]\n"
          ]
        }
      ]
    },
    {
      "cell_type": "markdown",
      "source": [
        "Q4. Given a list of integers, return the smallest positive integer not present in\n",
        "the list.\n",
        "Here is a representative example. Consider the list:\n",
        "[-2, 6, 4, 5, 7, -1, 7, 1, 3, 6, 6, -2, 9, 10, 2, 2]\n",
        "After reordering, the list becomes:\n",
        "[-2, -2, -1, 1, 2, 2, 3, 4, 5, 6, 6, 6, 7, 7, 9, 10]\n",
        "from which we see that the smallest missing positive integer is 8.\n",
        "\n",
        "Examples\n",
        "\n",
        "min_miss_pos([-2, 6, 4, 5, 7, -1, 1, 3, 6, -2, 9, 10, 2, 2]) ➞ 8\n",
        "\n",
        "After sorting, list becomes [-2, -2, -1, 1, 2, 2, 3, 4, 5, 6, 6, 7, 9, 10]\n",
        "\n",
        "So the smallest missing positive integer is 8\n",
        "\n",
        "min_miss_pos([5, 9, -2, 0, 1, 3, 9, 3, 8, 9]) ➞ 2\n",
        "\n",
        " After sorting, list becomes [-2, 0, 1, 3, 3, 5, 8, 9, 9, 9]\n",
        "\n",
        " So the smallest missing positive integer is 2\n",
        "\n",
        "min_miss_pos([0, 4, 4, -1, 9, 4, 5, 2, 10, 7, 6, 3, 10, 9]) ➞ 1\n",
        "\n",
        "After sorting, list becomes [-1, 0, 2, 3, 4, 4, 4, 5, 6, 7, 9, 9, 10, 10]\n",
        "\n",
        "So the smallest missing positive integer is 1"
      ],
      "metadata": {
        "id": "TtGPbFEbKxtf"
      }
    },
    {
      "cell_type": "code",
      "source": [
        "def min_miss_pos(lst):\n",
        "    small = min(lst)\n",
        "    lst = sorted(lst)\n",
        "    pos = 1\n",
        "    for i in lst:\n",
        "        if i>0 and i == pos:\n",
        "            pos += 1\n",
        "        elif i>pos:\n",
        "            print(pos)\n",
        "            return\n",
        "\n",
        "min_miss_pos([-2, 6, 4, 5, 7, -1, 1, 3, 6, -2, 9, 10, 2, 2])\n",
        "min_miss_pos([5, 9, -2, 0, 1, 3, 9, 3, 8, 9])\n",
        "min_miss_pos([0, 4, 4, -1, 9, 4, 5, 2, 10, 7, 6, 3, 10, 9])"
      ],
      "metadata": {
        "colab": {
          "base_uri": "https://localhost:8080/"
        },
        "id": "lPrSfPx6Hz1S",
        "outputId": "379ec69e-1db5-43fb-eee4-66e4da30c543"
      },
      "execution_count": 4,
      "outputs": [
        {
          "output_type": "stream",
          "name": "stdout",
          "text": [
            "8\n",
            "2\n",
            "1\n"
          ]
        }
      ]
    },
    {
      "cell_type": "markdown",
      "source": [
        "Q5. Google is launching a network of autonomous pizza delivery drones and\n",
        "wants you to create a flexible rewards system (Pizza Points™) that can be\n",
        "tweaked in the future. The rules are simple: if a customer has made at least N\n",
        "orders of at least Y price, they get a FREE pizza!\n",
        "Create a function that takes a dictionary of customers, a minimum number of\n",
        "orders and a minimum order price. Return a list of customers that are eligible\n",
        "for a free pizza.\n",
        "\n",
        "Examples\n",
        "\n",
        "customers = {\n",
        "&quot;Batman&quot;: [22, 30, 11, 17, 15, 52, 27, 12], \n",
        "&quot;Spider-Man&quot;: [5, 17, 30, 33, 40, 22, 26, 10, 11, 45]\n",
        "}\n",
        "\n",
        "pizza_points(customers, 5, 20) ➞ [&quot;Spider-Man&quot;]\n",
        "\n",
        "pizza_points(customers, 3, 10) ➞ [&quot;Batman&quot;, &quot;Spider-Man&quot;]\n",
        "\n",
        "pizza_points(customers, 5, 100) ➞ []"
      ],
      "metadata": {
        "id": "ieAf1TreNAUT"
      }
    },
    {
      "cell_type": "code",
      "source": [
        "def pizza_points(dic, order, price):\n",
        "    lst = []\n",
        "    for i in dic:\n",
        "\n",
        "        num_of_order = 0\n",
        "        for j in dic[i]:\n",
        "            if j>=price:\n",
        "                num_of_order += 1\n",
        "\n",
        "        if num_of_order >= order:\n",
        "            lst.append(i)\n",
        "\n",
        "    print(lst)\n",
        "\n",
        "customers = {\"Batman\":[22, 30, 11, 17, 15, 52, 27, 12], \"Spider-Man\":[5, 17, 30, 33, 40, 22, 26, 10, 11, 45]}\n",
        "pizza_points(customers, 5, 20)\n",
        "pizza_points(customers, 3, 10)\n",
        "pizza_points(customers, 5, 100)"
      ],
      "metadata": {
        "colab": {
          "base_uri": "https://localhost:8080/"
        },
        "id": "dytcSBtHNKVz",
        "outputId": "736e69e9-25fb-4803-f99a-948067a3c4cc"
      },
      "execution_count": 5,
      "outputs": [
        {
          "output_type": "stream",
          "name": "stdout",
          "text": [
            "['Spider-Man']\n",
            "['Batman', 'Spider-Man']\n",
            "[]\n"
          ]
        }
      ]
    }
  ]
}