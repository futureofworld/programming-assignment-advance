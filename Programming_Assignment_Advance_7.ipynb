{
  "nbformat": 4,
  "nbformat_minor": 0,
  "metadata": {
    "colab": {
      "name": "Programming_Assignment_Advance_7.ipynb",
      "provenance": [],
      "authorship_tag": "ABX9TyNxFx2zwGHEpWDE/DYwUK6w"
    },
    "kernelspec": {
      "name": "python3",
      "display_name": "Python 3"
    },
    "language_info": {
      "name": "python"
    }
  },
  "cells": [
    {
      "cell_type": "markdown",
      "source": [
        "Q1. Write a function that counts how many concentric layers a rug.\n",
        "\n",
        "Examples\n",
        "\n",
        "count_layers([\n",
        "\n",
        "&quot;AAAA&quot;,\n",
        "\n",
        "&quot;ABBA&quot;,\n",
        "\n",
        "&quot;AAAA&quot;\n",
        "\n",
        "]) ➞ 2\n",
        "\n",
        "count_layers([\n",
        "\n",
        "&quot;AAAAAAAAA&quot;,\n",
        "\n",
        "&quot;ABBBBBBBA&quot;,\n",
        "\n",
        "&quot;ABBAAABBA&quot;,\n",
        "\n",
        "&quot;ABBBBBBBA&quot;,\n",
        "\n",
        "&quot;AAAAAAAAA&quot;\n",
        "]) ➞ 3\n",
        "\n",
        "count_layers([\n",
        "\n",
        "&quot;AAAAAAAAAAA&quot;,\n",
        "\n",
        "&quot;AABBBBBBBAA&quot;,\n",
        "\n",
        "&quot;AABCCCCCBAA&quot;,\n",
        "\n",
        "&quot;AABCAAACBAA&quot;,\n",
        "\n",
        "&quot;AABCADACBAA&quot;,\n",
        "\n",
        "&quot;AABCAAACBAA&quot;,\n",
        "\n",
        "&quot;AABCCCCCBAA&quot;,\n",
        "\n",
        "&quot;AABBBBBBBAA&quot;,\n",
        "\n",
        "&quot;AAAAAAAAAAA&quot;\n",
        "]) ➞ 5"
      ],
      "metadata": {
        "id": "ED2tNmAIBmhs"
      }
    },
    {
      "cell_type": "code",
      "execution_count": 1,
      "metadata": {
        "colab": {
          "base_uri": "https://localhost:8080/"
        },
        "id": "Q9uiXd6mBmGF",
        "outputId": "5d780731-3851-43b4-b801-875543b2de48"
      },
      "outputs": [
        {
          "output_type": "stream",
          "name": "stdout",
          "text": [
            "2\n",
            "3\n",
            "5\n"
          ]
        }
      ],
      "source": [
        "import math\n",
        "def count_layers(lst):\n",
        "    print(math.ceil(len(lst)/2))\n",
        "\n",
        "count_layers([\n",
        "            \"AAAA\",\n",
        "            \"ABBA\",\n",
        "            \"AAAA\"])\n",
        "\n",
        "count_layers([\"AAAAAAAAA\",\n",
        "              \"ABBBBBBBA\",\n",
        "              \"ABBAAABBA\",\n",
        "              \"ABBBBBBBA\",\n",
        "              \"AAAAAAAAA\"])\n",
        "\n",
        "count_layers([\"AAAAAAAAAAA\",\n",
        "              \"AABBBBBBBAA\",\n",
        "              \"AABCCCCCBAA\",\n",
        "              \"AABCAAACBAA\",\n",
        "              \"AABCADACBAA\",\n",
        "              \"AABCAAACBAA\",\n",
        "              \"AABCCCCCBAA\",\n",
        "              \"AABBBBBBBAA\",\n",
        "              \"AAAAAAAAAAA\" ])"
      ]
    },
    {
      "cell_type": "markdown",
      "source": [
        "Q2. There are many different styles of music and many albums exhibit multiple\n",
        "styles. Create a function that takes a list of musical styles from albums and\n",
        "returns how many styles are unique.\n",
        "\n",
        "Examples\n",
        "\n",
        "unique_styles([\n",
        "\n",
        "&quot;Dub,Dancehall&quot;,\n",
        "\n",
        "&quot;Industrial,Heavy Metal&quot;,\n",
        "\n",
        "&quot;Techno,Dubstep&quot;,\n",
        "\n",
        "&quot;Synth-pop,Euro-Disco&quot;,\n",
        "\n",
        "&quot;Industrial,Techno,Minimal&quot;\n",
        "\n",
        "]) ➞ 9\n",
        "\n",
        "unique_styles([\n",
        "\n",
        "&quot;Soul&quot;,\n",
        "\n",
        "&quot;House,Folk&quot;,\n",
        "\n",
        "&quot;Trance,Downtempo,Big Beat,House&quot;,\n",
        "\n",
        "&quot;Deep House&quot;,\n",
        "\n",
        "&quot;Soul&quot;\n",
        "\n",
        "]) ➞ 7"
      ],
      "metadata": {
        "id": "4mF8PfoyDDh4"
      }
    },
    {
      "cell_type": "code",
      "source": [
        "def unique_styles(lst):\n",
        "    new_lst = []\n",
        "    for i in lst:\n",
        "        new_lst += i.split(',')\n",
        "    print(len(set(new_lst)))\n",
        "\n",
        "unique_styles([\n",
        "\"Dub,Dancehall\",\n",
        "\"Industrial,Heavy Metal\",\n",
        "\"Techno,Dubstep\",\n",
        "\"Synth-pop,Euro-Disco\",\n",
        "\"Industrial,Techno,Minimal\"])\n",
        "\n",
        "unique_styles([\n",
        "\"Soul\",\n",
        "\"House,Folk\",\n",
        "\"Trance,Downtempo,Big Beat,House\",\n",
        "\"Deep House\",\n",
        "\"Soul\"\n",
        "])"
      ],
      "metadata": {
        "colab": {
          "base_uri": "https://localhost:8080/"
        },
        "id": "HmOxDrzAEr6_",
        "outputId": "1ebfdd83-6852-40a6-98c3-45d90f07f764"
      },
      "execution_count": 2,
      "outputs": [
        {
          "output_type": "stream",
          "name": "stdout",
          "text": [
            "9\n",
            "7\n"
          ]
        }
      ]
    },
    {
      "cell_type": "markdown",
      "source": [
        "Q3. Create a function that finds a target number in a list of prime numbers.\n",
        "Implement a binary search algorithm in your function. The target number will\n",
        "be from 2 through 97. If the target is prime then return &quot;yes&quot; else return &quot;no&quot;.\n",
        "\n",
        "Examples\n",
        "\n",
        "primes = [2, 3, 5, 7, 11, 13, 17, 19, 23, 29, 31, 37, 41, 43, 47, 53, 59, 61, 67,\n",
        "71, 73, 79, 83, 89, 97]\n",
        "\n",
        "is_prime(primes, 3) ➞ &quot;yes&quot;\n",
        "\n",
        "is_prime(primes, 4) ➞ &quot;no&quot;\n",
        "\n",
        "is_prime(primes, 67) ➞ &quot;yes&quot;\n",
        "\n",
        "is_prime(primes, 36) ➞ &quot;no&quot;"
      ],
      "metadata": {
        "id": "Nyd9Tb_CFIPn"
      }
    },
    {
      "cell_type": "code",
      "source": [
        "def is_prime(lst, num):\n",
        "    start = 0;\n",
        "    end = len(lst)\n",
        "\n",
        "    while(start<=end):\n",
        "        mid = round((start + end)/2)\n",
        "        if lst[mid]==num:\n",
        "            return 'yes'\n",
        "        elif lst[mid]>num:\n",
        "            end = mid-1\n",
        "        elif lst[mid]<num:\n",
        "            start = mid+1\n",
        "\n",
        "    return 'no'\n",
        "\n",
        "primes = [2, 3, 5, 7, 11, 13, 17, 19, 23, 29, 31, 37, 41, 43, 47, 53, 59, 61, 67, 71, 73, 79, 83, 89, 97]\n",
        "print(is_prime(primes, 3))\n",
        "print(is_prime(primes, 4))\n",
        "print(is_prime(primes, 67))\n",
        "print(is_prime(primes, 36))"
      ],
      "metadata": {
        "colab": {
          "base_uri": "https://localhost:8080/"
        },
        "id": "0eCIrnxmFLRN",
        "outputId": "a34e14ca-d186-4377-9fa1-8469b8edb453"
      },
      "execution_count": 3,
      "outputs": [
        {
          "output_type": "stream",
          "name": "stdout",
          "text": [
            "yes\n",
            "no\n",
            "yes\n",
            "no\n"
          ]
        }
      ]
    },
    {
      "cell_type": "markdown",
      "source": [
        "Q4. Create a function that takes in n, a, b and returns the number of positive\n",
        "values raised to the nth power that lie in the range [a, b], inclusive.\n",
        "\n",
        "Examples\n",
        "\n",
        "power_ranger(2, 49, 65) ➞ 2\n",
        "\n",
        "2 squares (n^2) lie between 49 and 65, 49 (7^2) and 64 (8^2)\n",
        "\n",
        "power_ranger(3, 1, 27) ➞ 3\n",
        "\n",
        "3 cubes (n^3) lie between 1 and 27, 1 (1^3), 8 (2^3) and 27 (3^3)\n",
        "\n",
        "power_ranger(10, 1, 5) ➞ 1\n",
        "\n",
        "1 value raised to the 10th power lies between 1 and 5, 1 (1^10)\n",
        "\n",
        "power_ranger(5, 31, 33) ➞ 1\n",
        "\n",
        "power_ranger(4, 250, 1300) ➞ 3"
      ],
      "metadata": {
        "id": "WJYgab0qGwuF"
      }
    },
    {
      "cell_type": "code",
      "source": [
        "def power_ranger(n, a, b):\n",
        "    sum = 0\n",
        "    for i in range(b):\n",
        "        if i**n>b:\n",
        "            return sum\n",
        "        if i**n>=a and i**n<=b:\n",
        "            sum += 1\n",
        "\n",
        "print(power_ranger(2,49,65))\n",
        "print(power_ranger(3, 1, 27))\n",
        "print(power_ranger(10, 1, 5))\n",
        "print(power_ranger(5, 31, 33))\n",
        "print(power_ranger(4, 250, 1300))"
      ],
      "metadata": {
        "colab": {
          "base_uri": "https://localhost:8080/"
        },
        "id": "nyiUjSV5G2TD",
        "outputId": "ab3ef8d9-eeba-4ef9-b41f-b68222b201ab"
      },
      "execution_count": 4,
      "outputs": [
        {
          "output_type": "stream",
          "name": "stdout",
          "text": [
            "2\n",
            "3\n",
            "1\n",
            "1\n",
            "3\n"
          ]
        }
      ]
    },
    {
      "cell_type": "markdown",
      "source": [
        "Q5. Given a number, return the difference between the maximum and minimum\n",
        "numbers that can be formed when the digits are rearranged.\n",
        "\n",
        "Examples\n",
        "\n",
        "rearranged_difference(972882) ➞ 760833\n",
        "\n",
        "988722 - 227889 = 760833\n",
        "\n",
        "rearranged_difference(3320707) ➞ 7709823\n",
        "\n",
        "7733200 - 23377 = 7709823\n",
        "\n",
        "rearranged_difference(90010) ➞ 90981\n",
        "\n",
        "91000 - 19 = 90981"
      ],
      "metadata": {
        "id": "lwY68APhIj5K"
      }
    },
    {
      "cell_type": "code",
      "source": [
        "def rearranged_difference(num):\n",
        "    small = int(''.join(sorted(str(num))))\n",
        "    large = int(''.join(sorted(str(num), reverse=True)))\n",
        "    print(large-small)\n",
        "\n",
        "rearranged_difference(972882)\n",
        "rearranged_difference(3320707)\n",
        "rearranged_difference(90010)"
      ],
      "metadata": {
        "colab": {
          "base_uri": "https://localhost:8080/"
        },
        "id": "SUMiyLafHkjM",
        "outputId": "a708b3d8-3dc0-4842-d93a-76d1dd563690"
      },
      "execution_count": 5,
      "outputs": [
        {
          "output_type": "stream",
          "name": "stdout",
          "text": [
            "760833\n",
            "7709823\n",
            "90981\n"
          ]
        }
      ]
    }
  ]
}