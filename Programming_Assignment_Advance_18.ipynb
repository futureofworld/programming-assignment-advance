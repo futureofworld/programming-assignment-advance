{
  "nbformat": 4,
  "nbformat_minor": 0,
  "metadata": {
    "colab": {
      "name": "Programming_Assignment_Advance_18.ipynb",
      "provenance": [],
      "authorship_tag": "ABX9TyPQfzx3rlxz9pdpi7p9vUne"
    },
    "kernelspec": {
      "name": "python3",
      "display_name": "Python 3"
    },
    "language_info": {
      "name": "python"
    }
  },
  "cells": [
    {
      "cell_type": "markdown",
      "source": [
        "1. A robot has been given a list of movement instructions. Each instruction is\n",
        "either left, right, up or down, followed by a distance to move. The robot starts\n",
        "at [0, 0]. You want to calculate where the robot will end up and return its final\n",
        "position as a list.\n",
        "To illustrate, if the robot is given the following instructions:\n",
        "[&quot;right 10&quot;, &quot;up 50&quot;, &quot;left 30&quot;, &quot;down 10&quot;]\n",
        "It will end up 20 left and 40 up from where it started, so we return [-20, 40].\n",
        "\n",
        "Examples\n",
        "\n",
        "track_robot([&quot;right 10&quot;, &quot;up 50&quot;, &quot;left 30&quot;, &quot;down 10&quot;]) ➞ [-20, 40]\n",
        "\n",
        "track_robot([]) ➞ [0, 0]\n",
        "\n",
        "// If there are no instructions, the robot doesn&#39;t move.\n",
        "\n",
        "track_robot([&quot;right 100&quot;, &quot;right 100&quot;, &quot;up 500&quot;, &quot;up 10000&quot;]) ➞ [200, 10500]"
      ],
      "metadata": {
        "id": "94dtF3uDPfWG"
      }
    },
    {
      "cell_type": "code",
      "execution_count": 1,
      "metadata": {
        "colab": {
          "base_uri": "https://localhost:8080/"
        },
        "id": "18oI923qPbA4",
        "outputId": "9af5dc64-30f2-4aa2-f852-9e3d352d88e2"
      },
      "outputs": [
        {
          "output_type": "stream",
          "name": "stdout",
          "text": [
            "[-20, 40]\n",
            "[0, 0]\n",
            "[200, 10500]\n"
          ]
        }
      ],
      "source": [
        "def track_robot(lst):\n",
        "    x_pos = 0 \n",
        "    y_pos = 0\n",
        "    for i in lst:\n",
        "        direction, move = i.split()\n",
        "        if direction == 'right':\n",
        "            x_pos += int(move)\n",
        "        elif direction == 'up':\n",
        "            y_pos += int(move)\n",
        "        elif direction == 'left':\n",
        "            x_pos -= int(move)\n",
        "        else:\n",
        "            y_pos -= int(move)\n",
        "    print([x_pos, y_pos])\n",
        "\n",
        "track_robot([\"right 10\", \"up 50\", \"left 30\", \"down 10\"])\n",
        "track_robot([])\n",
        "track_robot([\"right 100\", \"right 100\", \"up 500\", \"up 10000\"])"
      ]
    },
    {
      "cell_type": "markdown",
      "source": [
        "Q2. Write a function that will return the longest word in a sentence. In cases\n",
        "where more than one word is found, return the first one.\n",
        "\n",
        "Examples\n",
        "\n",
        "find_longest(&quot;A thing of beauty is a joy forever.&quot;) ➞ &quot;forever&quot;\n",
        "\n",
        "find_longest(&quot;Forgetfulness is by all means powerless!&quot;) ➞ &quot;forgetfulness&quot;\n",
        "\n",
        "find_longest(&quot;Strengths&quot; is the longest and most commonly used word that\n",
        "contains only a single vowel.&quot;) ➞ &quot;strengths&quot;"
      ],
      "metadata": {
        "id": "P_CA_a87QqMs"
      }
    },
    {
      "cell_type": "code",
      "source": [
        "def find_longest(txt):\n",
        "    lst = txt.split()\n",
        "    large = ''\n",
        "    for i in lst:\n",
        "        if len(i)>len(large):\n",
        "            large = i\n",
        "    print(large)\n",
        "\n",
        "find_longest(\"A thing of beauty is a joy forever.\")\n",
        "find_longest(\"Forgetfulness is by all means powerless!\")\n",
        "find_longest(\"\\\"Strengths\\\" is the longest and most commonly used word that contains only a single vowel.\")"
      ],
      "metadata": {
        "colab": {
          "base_uri": "https://localhost:8080/"
        },
        "id": "IahWvPQWRHWr",
        "outputId": "88762e5f-1947-4387-dc0c-90b540608874"
      },
      "execution_count": 2,
      "outputs": [
        {
          "output_type": "stream",
          "name": "stdout",
          "text": [
            "forever.\n",
            "Forgetfulness\n",
            "\"Strengths\"\n"
          ]
        }
      ]
    },
    {
      "cell_type": "markdown",
      "source": [
        "Q3. Create a function to check if a candidate is qualified in an imaginary coding\n",
        "interview of an imaginary tech startup.\n",
        "The criteria for a candidate to be qualified in the coding interview is:\n",
        "1. The candidate should have complete all the questions.\n",
        "2. The maximum time given to complete the interview is 120 minutes.\n",
        "3. The maximum time given for very easy questions is 5 minutes each.\n",
        "4. The maximum time given for easy questions is 10 minutes each.\n",
        "5. The maximum time given for medium questions is 15 minutes each.\n",
        "6. The maximum time given for hard questions is 20 minutes each.\n",
        "\n",
        "If all the above conditions are satisfied, return &quot;qualified&quot;, else return\n",
        "&quot;disqualified&quot;.\n",
        "You will be given a list of time taken by a candidate to solve a particular\n",
        "question and the total time taken by the candidate to complete the interview.\n",
        "Given a list , in a true condition will always be in the format [very easy, very\n",
        "easy, easy, easy, medium, medium, hard, hard].\n",
        "The maximum time to complete the interview includes a buffer time of 20\n",
        "minutes.\n",
        "Examples\n",
        "\n",
        "interview([5, 5, 10, 10, 15, 15, 20, 20], 120) ➞ &quot;qualified&quot;\n",
        "\n",
        "interview([2, 3, 8, 6, 5, 12, 10, 18], 64) ➞ &quot;qualified&quot;\n",
        "\n",
        "interview([5, 5, 10, 10, 25, 15, 20, 20], 120) ➞ &quot;disqualified&quot;\n",
        "\n",
        " Exceeded the time limit for a medium question.\n",
        " \n",
        "interview([5, 5, 10, 10, 15, 15, 20], 120) ➞ &quot;disqualified&quot;\n",
        "\n",
        " Did not complete all the questions.\n",
        "interview([5, 5, 10, 10, 15, 15, 20, 20], 130) ➞ &quot;disqualified&quot;\n",
        "\n",
        " Solved all the questions in their respected time limits but exceeded the total\n",
        "time limit of the interview."
      ],
      "metadata": {
        "id": "CPHMKNzNSGzL"
      }
    },
    {
      "cell_type": "code",
      "source": [
        "def interview(lst, time):\n",
        "    qual_time = 5\n",
        "    if time<=120 and len(lst)==8:\n",
        "        j = 1\n",
        "        for i in range(len(lst)):\n",
        "            if i<=j and lst[i]<=qual_time:\n",
        "                qual = 'qualified'\n",
        "            else:\n",
        "                qual = 'disqualified'\n",
        "                print(qual)\n",
        "                return\n",
        "            if i == j:\n",
        "                j += 2\n",
        "                qual_time += 5\n",
        "        print(qual)\n",
        "    else:\n",
        "        print('disqualified')\n",
        "\n",
        "interview([5, 5, 10, 10, 15, 15, 20, 20], 120)\n",
        "interview([2, 3, 8, 6, 5, 12, 10, 18], 64)\n",
        "interview([5, 5, 10, 10, 25, 15, 20, 20], 120)\n",
        "interview([5, 5, 10, 10, 15, 15, 20], 120)\n",
        "interview([5, 5, 10, 10, 15, 15, 20, 20], 130)"
      ],
      "metadata": {
        "colab": {
          "base_uri": "https://localhost:8080/"
        },
        "id": "LfpPZpVIRXnC",
        "outputId": "61a221c8-358b-42d8-a7b4-83f1b1ffe702"
      },
      "execution_count": 3,
      "outputs": [
        {
          "output_type": "stream",
          "name": "stdout",
          "text": [
            "qualified\n",
            "qualified\n",
            "disqualified\n",
            "disqualified\n",
            "disqualified\n"
          ]
        }
      ]
    },
    {
      "cell_type": "markdown",
      "source": [
        "Q4. Write a function that divides a list into chunks of size n, where n is the\n",
        "length of each chunk.\n",
        "\n",
        "Examples\n",
        "\n",
        "chunkify([2, 3, 4, 5], 2) ➞ [[2, 3], [4, 5]]\n",
        "\n",
        "chunkify([2, 3, 4, 5, 6], 2) ➞ [[2, 3], [4, 5], [6]]\n",
        "\n",
        "chunkify([2, 3, 4, 5, 6, 7], 3) ➞ [[2, 3, 4], [5, 6, 7]]\n",
        "\n",
        "chunkify([2, 3, 4, 5, 6, 7], 1) ➞ [[2], [3], [4], [5], [6], [7]]\n",
        "\n",
        "chunkify([2, 3, 4, 5, 6, 7], 7) ➞ [[2, 3, 4, 5, 6, 7]]"
      ],
      "metadata": {
        "id": "aq473urAVT93"
      }
    },
    {
      "cell_type": "code",
      "source": [
        "def chunkify(lst,size):\n",
        "    chunks = []\n",
        "    j = 0\n",
        "    while j<len(lst):\n",
        "        chunk = []\n",
        "        for i in range(size):\n",
        "            if j<len(lst):\n",
        "                chunk.append(lst[j])\n",
        "                j+=1\n",
        "            else:\n",
        "                break\n",
        "        chunks.append(chunk)\n",
        "    print(chunks)\n",
        "\n",
        "chunkify([2, 3, 4, 5], 2)\n",
        "chunkify([2, 3, 4, 5, 6], 2)\n",
        "chunkify([2, 3, 4, 5, 6, 7], 3)\n",
        "chunkify([2, 3, 4, 5, 6, 7], 1)\n",
        "chunkify([2, 3, 4, 5, 6, 7], 7)"
      ],
      "metadata": {
        "colab": {
          "base_uri": "https://localhost:8080/"
        },
        "id": "2UPzvbLwVWNH",
        "outputId": "32d2341c-8e12-4218-8d38-3a27069b6933"
      },
      "execution_count": 4,
      "outputs": [
        {
          "output_type": "stream",
          "name": "stdout",
          "text": [
            "[[2, 3], [4, 5]]\n",
            "[[2, 3], [4, 5], [6]]\n",
            "[[2, 3, 4], [5, 6, 7]]\n",
            "[[2], [3], [4], [5], [6], [7]]\n",
            "[[2, 3, 4, 5, 6, 7]]\n"
          ]
        }
      ]
    },
    {
      "cell_type": "markdown",
      "source": [
        "Q5. You are given a list of strings consisting of grocery items, with prices in\n",
        "parentheses. Return a list of prices in float format.\n",
        "\n",
        "Examples\n",
        "\n",
        "get_prices([&quot;salad ($4.99)&quot;]) ➞ [4.99]\n",
        "\n",
        "get_prices([&quot;artichokes (\\$1.99)&quot;, &quot;rotiserrie chicke ($5.99)&quot;, &quot;gum (\\$0.75)&quot;])\n",
        "➞ [1.99, 5.99, 0.75]\n",
        "\n",
        "get_prices([\n",
        "&quot;ice cream (\\$5.99)&quot;,\n",
        "&quot;banana ($0.20)&quot;,\n",
        "&quot;sandwich (\\$8.50)&quot;,\n",
        "&quot;soup (\\$1.99)&quot;\n",
        "])\n",
        "➞ [5.99, 0.2, 8.50, 1.99]"
      ],
      "metadata": {
        "id": "3JnoVGVIWsq4"
      }
    },
    {
      "cell_type": "code",
      "source": [
        "def get_prices(lst):\n",
        "    prices = []\n",
        "    for i in lst:\n",
        "        item, price = i.split('(')\n",
        "        prices.append(float(price.strip('()$')))\n",
        "    print(prices)\n",
        "\n",
        "get_prices([\"salad ($4.99)\"])\n",
        "get_prices([\"artichokes ($1.99)\", \"rotiserrie chicke ($5.99)\", \"gum ($0.75)\"])\n",
        "get_prices([ \"ice cream ($5.99)\", \"banana ($0.20)\", \"sandwich ($8.50)\", \"soup ($1.99)\" ])"
      ],
      "metadata": {
        "colab": {
          "base_uri": "https://localhost:8080/"
        },
        "id": "rUTr97AsYPpc",
        "outputId": "dc58d46a-5aeb-4a7b-9565-66d3b76aa3d1"
      },
      "execution_count": 5,
      "outputs": [
        {
          "output_type": "stream",
          "name": "stdout",
          "text": [
            "[4.99]\n",
            "[1.99, 5.99, 0.75]\n",
            "[5.99, 0.2, 8.5, 1.99]\n"
          ]
        }
      ]
    }
  ]
}