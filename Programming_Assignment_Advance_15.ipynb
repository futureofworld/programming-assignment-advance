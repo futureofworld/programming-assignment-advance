{
  "nbformat": 4,
  "nbformat_minor": 0,
  "metadata": {
    "colab": {
      "name": "Programming_Assignment_Advance_15.ipynb",
      "provenance": [],
      "authorship_tag": "ABX9TyPiyPRATMQj8f6JCRYJahOw"
    },
    "kernelspec": {
      "name": "python3",
      "display_name": "Python 3"
    },
    "language_info": {
      "name": "python"
    }
  },
  "cells": [
    {
      "cell_type": "markdown",
      "source": [
        "Q1. Write a function that returns True if a given name can generate an array of\n",
        "words.\n",
        "\n",
        "Examples\n",
        "\n",
        "anagram(&quot;Justin Bieber&quot;, [&quot;injures&quot;, &quot;ebb&quot;, &quot;it&quot;]) ➞ True\n",
        "\n",
        "anagram(&quot;Natalie Portman&quot;, [&quot;ornamental&quot;, &quot;pita&quot;]) ➞ True\n",
        "\n",
        "anagram(&quot;Chris Pratt&quot;, [&quot;chirps&quot;, &quot;rat&quot;]) ➞ False\n",
        "\n",
        " Not all letters are used\n",
        "\n",
        "anagram(&quot;Jeff Goldblum&quot;, [&quot;jog&quot;, &quot;meld&quot;, &quot;bluffs&quot;]) ➞ False\n",
        "\n",
        "&quot;s&quot; does not exist in the original name"
      ],
      "metadata": {
        "id": "ZiH3NFe3nLYq"
      }
    },
    {
      "cell_type": "code",
      "execution_count": 1,
      "metadata": {
        "colab": {
          "base_uri": "https://localhost:8080/"
        },
        "id": "MdJ1MvAjnKdC",
        "outputId": "be8a5403-e0fc-442e-a3da-2d8f5327b4a7"
      },
      "outputs": [
        {
          "output_type": "stream",
          "name": "stdout",
          "text": [
            "True\n",
            "True\n",
            "False\n",
            "False\n"
          ]
        }
      ],
      "source": [
        "def anagram(name, lst):\n",
        "    name = name.lower().replace(' ','')\n",
        "    for i in lst:\n",
        "        for j in i:\n",
        "            if j in name:\n",
        "                name = name.replace(j,'',1)\n",
        "            else:\n",
        "                print(False)\n",
        "                return\n",
        "    print(not name)\n",
        "\n",
        "anagram(\"Justin Bieber\", [\"injures\", \"ebb\", \"it\"])\n",
        "anagram(\"Natalie Portman\", [\"ornamental\", \"pita\"])\n",
        "anagram(\"Chris Pratt\", [\"chirps\", \"rat\"])\n",
        "anagram(\"Jeff Goldblum\", [\"jog\", \"meld\", \"bluffs\"])"
      ]
    },
    {
      "cell_type": "markdown",
      "source": [
        "Q2. Given an array of users, each defined by an object with the following\n",
        "properties: name, score, reputation create a function that sorts the array to\n",
        "form the correct leaderboard.\n",
        "The leaderboard takes into consideration the score of each user of course,\n",
        "but an emphasis is put on their reputation in the community, so to get the\n",
        "trueScore, you should add the reputation multiplied by 2 to the score.\n",
        "Once you know the trueScore of each user, sort the array according to it in\n",
        "descending order.\n",
        "\n",
        "Examples\n",
        "\n",
        "leaderboards([\n",
        "{ &quot;name&quot;: &quot;a&quot;, &quot;score&quot;: 100, &quot;reputation&quot;: 20 },\n",
        "{ &quot;name&quot;: &quot;b&quot;, &quot;score&quot;: 90, &quot;reputation&quot;: 40 },\n",
        "{ &quot;name&quot;: &quot;c&quot;, &quot;score&quot;: 115, &quot;reputation&quot;: 30 },\n",
        "]) ➞ [\n",
        "{ &quot;name&quot;: &quot;c&quot;, &quot;score&quot;: 115, &quot;reputation&quot;: 30 }, # trueScore = 175\n",
        "{ &quot;name&quot;: &quot;b&quot;, &quot;score&quot;: 90, &quot;reputation&quot;: 40 }, # trueScore = 170\n",
        "{ &quot;name&quot;: &quot;a&quot;, &quot;score&quot;: 100, &quot;reputation&quot;: 20 } # trueScore = 140\n",
        "]"
      ],
      "metadata": {
        "id": "-uKWQVyIoG43"
      }
    },
    {
      "cell_type": "code",
      "source": [
        "def leaderboards(lst):\n",
        "    truescore = []\n",
        "    for i in lst:\n",
        "        truescore.append(i['score'] + 2*i['reputation'])\n",
        "    sort_truescore = sorted(truescore, reverse=True)\n",
        "    sort_lst = []\n",
        "    for i in sort_truescore:\n",
        "        sort_lst.append(lst[truescore.index(i)])\n",
        "    print(sort_lst)\n",
        "\n",
        "leaderboards([{ \"name\": \"a\", \"score\": 100, \"reputation\": 20 }, \n",
        "              { \"name\": \"b\", \"score\": 90, \"reputation\": 40 }, \n",
        "              { \"name\": \"c\", \"score\": 115, \"reputation\": 30 },])"
      ],
      "metadata": {
        "colab": {
          "base_uri": "https://localhost:8080/"
        },
        "id": "PxUignn_oMru",
        "outputId": "6d9ee48e-993c-454b-90ae-67577865ca69"
      },
      "execution_count": 2,
      "outputs": [
        {
          "output_type": "stream",
          "name": "stdout",
          "text": [
            "[{'name': 'c', 'score': 115, 'reputation': 30}, {'name': 'b', 'score': 90, 'reputation': 40}, {'name': 'a', 'score': 100, 'reputation': 20}]\n"
          ]
        }
      ]
    },
    {
      "cell_type": "markdown",
      "source": [
        "Q3. Create a function that, given a phrase and a number of letters guessed,\n",
        "returns a string with hyphens - for every letter of the phrase not guessed, and\n",
        "each letter guessed in place.\n",
        "\n",
        "Examples\n",
        "\n",
        "hangman(&quot;helicopter&quot;, [&quot;o&quot;, &quot;e&quot;, &quot;s&quot;]) ➞ &quot;-e---o--e-&quot;\n",
        "\n",
        "hangman(&quot;tree&quot;, [&quot;r&quot;, &quot;t&quot;, &quot;e&quot;]) ➞ &quot;tree&quot;\n",
        "\n",
        "hangman(&quot;Python rules&quot;, [&quot;a&quot;, &quot;n&quot;, &quot;p&quot;, &quot;r&quot;, &quot;z&quot;]) ➞ &quot;P----n r----&quot;\n",
        "\n",
        "hangman(&quot;He&quot;s a very naughty boy!&quot;, [&quot;e&quot;, &quot;a&quot;, &quot;y&quot;]) ➞ &quot;-e&quot;- a -e-y -a----y –y!&quot;"
      ],
      "metadata": {
        "id": "Lo80FIMuq3rE"
      }
    },
    {
      "cell_type": "code",
      "source": [
        "def hangman(name, lst):\n",
        "    punc = '''!@#$%^&*\"' '''\n",
        "    for i in range(len(name)):\n",
        "        if name[i].lower() not in lst and name[i].lower() not in punc:\n",
        "            name = name.replace(name[i],'-')\n",
        "    print(name)\n",
        "\n",
        "hangman('helicopter',['o','e','s'])\n",
        "hangman(\"tree\", [\"r\", \"t\", \"e\"])\n",
        "hangman(\"Python rules\", [\"a\", \"n\", \"p\", \"r\", \"z\"])\n",
        "hangman('He\"s a very naughty boy!', [\"e\", \"a\", \"y\"])"
      ],
      "metadata": {
        "colab": {
          "base_uri": "https://localhost:8080/"
        },
        "id": "5ZnGxt7ftiQp",
        "outputId": "a38109b3-ef21-46e3-f309-6368f8277322"
      },
      "execution_count": 3,
      "outputs": [
        {
          "output_type": "stream",
          "name": "stdout",
          "text": [
            "-e---o--e-\n",
            "tree\n",
            "P----n r----\n",
            "-e\"- a -e-y -a----y --y!\n"
          ]
        }
      ]
    },
    {
      "cell_type": "markdown",
      "source": [
        "Q4. The Collatz sequence is as follows:\n",
        "- Start with some given integer n.\n",
        "- If it is even, the next number will be n divided by 2.\n",
        "- If it is odd, multiply it by 3 and add 1 to make the next number.\n",
        "- The sequence stops when it reaches 1.\n",
        "According to the Collatz conjecture, it will always reach 1. If that&#39;s true, you\n",
        "can construct a finite sequence following the aforementioned method for any\n",
        "given integer.\n",
        "Write a function that takes in an integer n and returns the highest integer in\n",
        "the corresponding Collatz sequence.\n",
        "\n",
        "Examples\n",
        "\n",
        "max_collatz(10) ➞ 16\n",
        "\n",
        "Collatz sequence: 10, 5, 16, 8, 4, 2, 1\n",
        "\n",
        "max_collatz(32) ➞ 32\n",
        "\n",
        "Collatz sequence: 32, 16, 8, 4, 2, 1\n",
        "\n",
        "max_collatz(85) ➞ 256\n",
        "\n",
        "Collatz sequence: 85, 256, 128, 64, 32, 16, 8, 4, 2, 1"
      ],
      "metadata": {
        "id": "1azK-3vdwXr-"
      }
    },
    {
      "cell_type": "code",
      "source": [
        "def max_collatz(num):\n",
        "    collatz = [num]\n",
        "    while num != 1:\n",
        "        if num%2 == 0:\n",
        "            num /= 2\n",
        "            collatz.append(num)\n",
        "        else:\n",
        "            num = num*3 + 1\n",
        "            collatz.append(num)\n",
        "    print(max(collatz))\n",
        "\n",
        "max_collatz(10)\n",
        "max_collatz(32)\n",
        "max_collatz(85)"
      ],
      "metadata": {
        "id": "iGXUeurtwdJ9",
        "outputId": "34389e06-33e1-46eb-996b-40612c094ccc",
        "colab": {
          "base_uri": "https://localhost:8080/"
        }
      },
      "execution_count": 4,
      "outputs": [
        {
          "output_type": "stream",
          "name": "stdout",
          "text": [
            "16.0\n",
            "32\n",
            "256\n"
          ]
        }
      ]
    },
    {
      "cell_type": "markdown",
      "source": [
        "Q5. Write a function that sorts a list of integers by their digit length in\n",
        "descending order, then settles ties by sorting numbers with the same digit\n",
        "length in ascending order.\n",
        "\n",
        "Examples\n",
        "\n",
        "digit_sort([77, 23, 5, 7, 101])\n",
        "➞ [101, 23, 77, 5, 7]\n",
        "\n",
        "digit_sort([1, 5, 9, 2, 789, 563, 444])\n",
        "➞ [444, 563, 789, 1, 2, 5, 9]\n",
        "\n",
        "digit_sort([53219, 3772, 564, 32, 1])\n",
        "➞ [53219, 3772, 564, 32, 1]"
      ],
      "metadata": {
        "id": "-2DJbs0Xxlbc"
      }
    },
    {
      "cell_type": "code",
      "source": [
        "def digit_sort(lst):\n",
        "    print(sorted(lst,reverse=True))\n",
        "\n",
        "digit_sort([77, 23, 5, 7, 101])\n",
        "digit_sort([1, 5, 9, 2, 789, 563, 444])\n",
        "digit_sort([53219, 3772, 564, 32, 1])"
      ],
      "metadata": {
        "id": "nMmBMpS5xog7",
        "outputId": "94008060-e26b-4e2f-ccd2-268b60991eb7",
        "colab": {
          "base_uri": "https://localhost:8080/"
        }
      },
      "execution_count": 5,
      "outputs": [
        {
          "output_type": "stream",
          "name": "stdout",
          "text": [
            "[101, 77, 23, 7, 5]\n",
            "[789, 563, 444, 9, 5, 2, 1]\n",
            "[53219, 3772, 564, 32, 1]\n"
          ]
        }
      ]
    }
  ]
}