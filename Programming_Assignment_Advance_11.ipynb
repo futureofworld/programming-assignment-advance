{
  "cells": [
    {
      "cell_type": "markdown",
      "metadata": {
        "id": "GDQZ9WmuuVSK"
      },
      "source": [
        "Q1. Create a function that takes a list and returns a new list containing only\n",
        "prime numbers.\n",
        "\n",
        "Examples\n",
        "\n",
        "filter_primes([7, 9, 3, 9, 10, 11, 27]) ➞ [7, 3, 11]\n",
        "\n",
        "filter_primes([10007, 1009, 1007, 27, 147, 77, 1001, 70]) ➞ [10007, 1009]\n",
        "\n",
        "filter_primes([1009, 10, 10, 10, 3, 33, 9, 4, 1, 61, 63, 69, 1087, 1091, 1093,\n",
        "1097]) ➞ [1009, 3, 61, 1087, 1091, 1093, 1097]"
      ]
    },
    {
      "cell_type": "code",
      "execution_count": 1,
      "metadata": {
        "colab": {
          "base_uri": "https://localhost:8080/"
        },
        "id": "70l4k_JXuUqL",
        "outputId": "f07110b1-1972-4f74-932d-147d5262f201"
      },
      "outputs": [
        {
          "output_type": "stream",
          "name": "stdout",
          "text": [
            "[7, 3, 11]\n",
            "[10007, 1009]\n",
            "[1009, 3, 61, 1087, 1091, 1093, 1097]\n"
          ]
        }
      ],
      "source": [
        "def filter_primes(lst):\n",
        "    new_lst = []\n",
        "    for i in lst:\n",
        "        for j in range(2,i):\n",
        "            if i%j == 0:\n",
        "                break\n",
        "            if j == i-1:\n",
        "                new_lst.append(i)\n",
        "    print(new_lst)\n",
        "\n",
        "filter_primes([7, 9, 3, 9, 10, 11, 27])\n",
        "filter_primes([10007, 1009, 1007, 27, 147, 77, 1001, 70])\n",
        "filter_primes([1009, 10, 10, 10, 3, 33, 9, 4, 1, 61, 63, 69, 1087, 1091, 1093, 1097])"
      ]
    },
    {
      "cell_type": "markdown",
      "metadata": {
        "id": "MBchog2gu83K"
      },
      "source": [
        "Q2. Once a water balloon pops, is soaks the area around it. The ground gets\n",
        "drier the further away you travel from the balloon.\n",
        "The effect of a water balloon popping can be modeled using a list. Create a\n",
        "function that takes a list which takes the pre-pop state and returns the state\n",
        "after the balloon is popped. The pre-pop state will contain at most a single\n",
        "balloon, whose size is represented by the only non-zero element.\n",
        "\n",
        "Examples\n",
        "\n",
        "pop([0, 0, 0, 0, 4, 0, 0, 0, 0]) ➞ [0, 1, 2, 3, 4, 3, 2, 1, 0]\n",
        "\n",
        "pop([0, 0, 0, 3, 0, 0, 0]) ➞ [0, 1, 2, 3, 2, 1, 0]\n",
        "\n",
        "pop([0, 0, 2, 0, 0]) ➞ [0, 1, 2, 1, 0]\n",
        "\n",
        "pop([0]) ➞ [0]"
      ]
    },
    {
      "cell_type": "code",
      "execution_count": 2,
      "metadata": {
        "colab": {
          "base_uri": "https://localhost:8080/"
        },
        "id": "fbUy3hr2vR-O",
        "outputId": "5f7118c1-b791-4f6a-c17b-8aad6e3765d9"
      },
      "outputs": [
        {
          "output_type": "stream",
          "name": "stdout",
          "text": [
            "[0, 1, 2, 3, 4, 3, 2, 1, 0]\n",
            "[0, 1, 2, 3, 2, 1, 0]\n",
            "[0, 1, 2, 1, 0]\n",
            "[0]\n"
          ]
        }
      ],
      "source": [
        "import math\n",
        "def pop(lst):\n",
        "    new_lst = []\n",
        "    for j in range(math.ceil(len(lst)/2)):\n",
        "        new_lst.append(j)\n",
        "    for j in range(math.floor(len(lst)/2)):\n",
        "        new_lst.append(math.floor(len(lst)/2)-j-1)\n",
        "    print(new_lst)\n",
        "\n",
        "pop([0, 0, 0, 0, 4, 0, 0, 0, 0])\n",
        "pop([0, 0, 0, 3, 0, 0, 0])\n",
        "pop([0, 0, 2, 0, 0])\n",
        "pop([0])"
      ]
    },
    {
      "cell_type": "markdown",
      "metadata": {
        "id": "leFWS2J3y5QN"
      },
      "source": [
        "Q3. &quot;Loves me, loves me not&quot; is a traditional game in which a person plucks off\n",
        "all the petals of a flower one by one, saying the phrase &quot;Loves me&quot; and\n",
        "&quot;Loves me not&quot; when determining whether the one that they love, loves them\n",
        "back.\n",
        "Given a number of petals, return a string which repeats the phrases &quot;Loves\n",
        "me&quot; and &quot;Loves me not&quot; for every alternating petal, and return the last phrase\n",
        "in all caps. Remember to put a comma and space between phrases.\n",
        "\n",
        "Examples\n",
        "\n",
        "loves_me(3) ➞ &quot;Loves me, Loves me not, LOVES ME&quot;\n",
        "\n",
        "loves_me(6) ➞ &quot;Loves me, Loves me not, Loves me, Loves me not, Loves\n",
        "me, LOVES ME NOT&quot;\n",
        "\n",
        "loves_me(1) ➞ &quot;LOVES ME&quot;"
      ]
    },
    {
      "cell_type": "code",
      "execution_count": 3,
      "metadata": {
        "colab": {
          "base_uri": "https://localhost:8080/"
        },
        "id": "NOkY2NqhwIuW",
        "outputId": "66823677-3ead-4365-a79b-7bd45754d6e5"
      },
      "outputs": [
        {
          "output_type": "stream",
          "name": "stdout",
          "text": [
            "Loves me, Loves me not, LOVES ME\n",
            "Loves me, Loves me not, Loves me, Loves me not, Loves me, LOVES ME NOT\n",
            "LOVES ME\n"
          ]
        }
      ],
      "source": [
        "def loves_me(num):\n",
        "    love = ''\n",
        "    for i in range(num):\n",
        "        if i%2 == 0 and i != num-1:\n",
        "            love += 'Loves me, '\n",
        "        elif i%2 != 0 and i != num-1:\n",
        "            love += 'Loves me not, '\n",
        "        elif i%2 == 0 and i == num-1:\n",
        "            love += 'LOVES ME'\n",
        "        else:\n",
        "            love += 'LOVES ME NOT'\n",
        "    print(love)\n",
        "\n",
        "loves_me(3)\n",
        "loves_me(6)\n",
        "loves_me(1)"
      ]
    },
    {
      "cell_type": "markdown",
      "metadata": {
        "id": "byyckhnW0Zty"
      },
      "source": [
        "Q4. Write a function that sorts each string in a list by the letter in alphabetic\n",
        "ascending order (a-z).\n",
        "\n",
        "Examples\n",
        "\n",
        "sort_by_letter([&quot;932c&quot;, &quot;832u32&quot;, &quot;2344b&quot;])\n",
        "➞ [&quot;2344b&quot;, &quot;932c&quot;, &quot;832u32&quot;]\n",
        "\n",
        "sort_by_letter([&quot;99a&quot;, &quot;78b&quot;, &quot;c2345&quot;, &quot;11d&quot;])\n",
        "➞ [&quot;99a&quot;, &quot;78b&quot;, &quot;c2345&quot;, &quot;11d&quot;]\n",
        "\n",
        "sort_by_letter([&quot;572z&quot;, &quot;5y5&quot;, &quot;304q2&quot;])\n",
        "➞ [&quot;304q2&quot;, &quot;5y5&quot;, &quot;572z&quot;]\n",
        "\n",
        "sort_by_letter([])\n",
        "➞ []"
      ]
    },
    {
      "cell_type": "code",
      "execution_count": 4,
      "metadata": {
        "colab": {
          "base_uri": "https://localhost:8080/"
        },
        "id": "jwKAuSTE0eWx",
        "outputId": "bb8e8d2c-71c7-4f41-affe-0499be1d5247"
      },
      "outputs": [
        {
          "output_type": "stream",
          "name": "stdout",
          "text": [
            "['2344b', '932c', '832u32']\n",
            "['99a', '78b', 'c2345', '11d']\n",
            "['304q2', '5y5', '572z']\n"
          ]
        }
      ],
      "source": [
        "def sort_by_letter(lst):\n",
        "    char_lst = []\n",
        "    for i in lst:\n",
        "        for j in i:\n",
        "            try:\n",
        "                int(j)\n",
        "            except:\n",
        "                char_lst.append(j)\n",
        "    sort_char_lst = sorted(char_lst)\n",
        "    new_lst = []\n",
        "    for i in sort_char_lst:\n",
        "        new_lst.append(lst[char_lst.index(i)])\n",
        "    print(new_lst)\n",
        "\n",
        "\n",
        "sort_by_letter([\"932c\", \"832u32\", \"2344b\"])\n",
        "sort_by_letter([\"99a\", \"78b\", \"c2345\", \"11d\"])\n",
        "sort_by_letter([\"572z\", \"5y5\", \"304q2\"])"
      ]
    },
    {
      "cell_type": "markdown",
      "metadata": {
        "id": "D_f7g2hx3004"
      },
      "source": [
        "Q5. There are three cups on a table, at positions A, B, and C. At the start, there\n",
        "is a ball hidden under the cup at position B.\n",
        "\n",
        "However, I perform several swaps on the cups, which is notated as two\n",
        "letters. For example, if I swap the cups at positions A and B, I could notate\n",
        "this as AB or BA.\n",
        "Create a function that returns the letter position that the ball is at, once I finish\n",
        "swapping the cups. The swaps will be given to you as a list.\n",
        "\n",
        "Example\n",
        "\n",
        "cup_swapping([&quot;AB&quot;, &quot;CA&quot;, &quot;AB&quot;]) ➞ &quot;C&quot;\n",
        "\n",
        "Ball begins at position B.\n",
        "\n",
        "Cups A and B swap, so the ball is at position A.\n",
        "\n",
        "Cups C and A swap, so the ball is at position C.\n",
        "\n",
        "Cups A and B swap, but the ball is at position C, so it doesn&#39;t move."
      ]
    },
    {
      "cell_type": "code",
      "execution_count": 5,
      "metadata": {
        "colab": {
          "base_uri": "https://localhost:8080/"
        },
        "id": "FKVgcNWX3666",
        "outputId": "6dfc1715-9bc3-464f-ca2a-b4014461ae5c"
      },
      "outputs": [
        {
          "output_type": "stream",
          "name": "stdout",
          "text": [
            "C\n"
          ]
        }
      ],
      "source": [
        "def cup_swapping(lst):\n",
        "    ball_pos = 'B'\n",
        "    for i in lst:\n",
        "        if ball_pos in i:\n",
        "            ball_pos = i.replace(ball_pos,'')\n",
        "    print(ball_pos)\n",
        "\n",
        "cup_swapping([\"AB\", \"CA\", \"AB\"])"
      ]
    }
  ],
  "metadata": {
    "colab": {
      "name": "Programming_Assignment_Advance_11.ipynb",
      "provenance": [],
      "authorship_tag": "ABX9TyOZkAdOtFUYjlSLExYX1jC/"
    },
    "kernelspec": {
      "display_name": "Python 3",
      "name": "python3"
    },
    "language_info": {
      "name": "python"
    }
  },
  "nbformat": 4,
  "nbformat_minor": 0
}