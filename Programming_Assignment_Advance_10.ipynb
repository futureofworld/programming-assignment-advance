{
  "nbformat": 4,
  "nbformat_minor": 0,
  "metadata": {
    "colab": {
      "name": "Programming_Assignment_Advance_10.ipynb",
      "provenance": [],
      "collapsed_sections": [],
      "authorship_tag": "ABX9TyMi71YHZ8zzoNBJrvpbYEHO"
    },
    "kernelspec": {
      "name": "python3",
      "display_name": "Python 3"
    },
    "language_info": {
      "name": "python"
    }
  },
  "cells": [
    {
      "cell_type": "markdown",
      "source": [
        "Q1. Create a function that takes the width, height and character and returns a\n",
        "picture frame as a 2D list.\n",
        "\n",
        "Examples\n",
        "\n",
        "get_frame(4, 5, &quot;#&quot;) ➞ [\n",
        "[&quot;####&quot;],\n",
        "[&quot;# #&quot;],\n",
        "[&quot;# #&quot;],\n",
        "[&quot;# #&quot;],\n",
        "[&quot;####&quot;]\n",
        "]\n",
        "\n",
        "Frame is 4 characters wide and 5 characters tall.\n",
        "\n",
        "get_frame(10, 3, &quot;* &quot;) ➞ [\n",
        "[&quot;********* *&quot;],\n",
        "[&quot;* * &quot;],\n",
        "[&quot;**********&quot;]\n",
        "]\n",
        "\n",
        "Frame is 10 characters and wide and 3 characters tall.\n",
        "\n",
        "get_frame(2, 5, &quot;0&quot;) ➞ &quot;invalid&quot;\n",
        "\n",
        "Frame&#39;s width is not more than 2."
      ],
      "metadata": {
        "id": "D-HFTXOFZU_J"
      }
    },
    {
      "cell_type": "code",
      "execution_count": 1,
      "metadata": {
        "colab": {
          "base_uri": "https://localhost:8080/"
        },
        "id": "dxVM3MviZTU-",
        "outputId": "f3927463-3075-4d0e-d631-06ab8e4466be"
      },
      "outputs": [
        {
          "output_type": "stream",
          "name": "stdout",
          "text": [
            "[['####'], ['#  #'], ['#  #'], ['#  #'], ['####']]\n",
            "[['**********'], ['*        *'], ['**********']]\n",
            "invalid\n"
          ]
        }
      ],
      "source": [
        "def get_frame(width, height, char):\n",
        "    lst = []\n",
        "    if width<=2:\n",
        "        print('invalid')\n",
        "        return \n",
        "    for i in range(height):\n",
        "        if i == 0 or i == (height-1):\n",
        "            lst.append([char*width])\n",
        "        else:\n",
        "            lst.append([char+(' '*(width-2))+char])\n",
        "    print(lst)\n",
        "        \n",
        "get_frame(4, 5, \"#\")\n",
        "get_frame(10, 3, \"*\")\n",
        "get_frame(2, 5, \"0\")"
      ]
    },
    {
      "cell_type": "markdown",
      "source": [
        "Q2. Write three functions:\n",
        "\n",
        "1.   boolean_and\n",
        "2.   boolean_or\n",
        "3.   boolean_xor\n",
        "\n",
        "These functions should evaluate a list of True and False values, starting from\n",
        "the leftmost element and evaluating pairwise.\n",
        "\n",
        "Examples\n",
        "\n",
        "boolean_and([True, True, False, True]) ➞ False\n",
        "\n",
        "[True, True, False, True] =&gt; [True, False, True] =&gt; [False, True] =&gt; False\n",
        "\n",
        "boolean_or([True, True, False, False]) ➞ True\n",
        "\n",
        "[True, True, False, True] =&gt; [True, False, False] =&gt; [True, False] =&gt; True\n",
        "\n",
        "boolean_xor([True, True, False, False]) ➞ False\n",
        "\n",
        "[True, True, False, False] =&gt; [False, False, False] =&gt; [False, False] =&gt;\n",
        "False"
      ],
      "metadata": {
        "id": "Zq_E4nopdpej"
      }
    },
    {
      "cell_type": "code",
      "source": [
        "def boolean_and(lst):\n",
        "    bool_value = lst[0] and lst[1]\n",
        "    for i in range(2,len(lst)):\n",
        "        bool_value = bool_value and lst[i]\n",
        "    print(bool_value)\n",
        "\n",
        "def boolean_or(lst):\n",
        "    bool_value = lst[0] or lst[1]\n",
        "    for i in range(2,len(lst)):\n",
        "        bool_value = bool_value or lst[i]\n",
        "    print(bool_value)\n",
        "\n",
        "def boolean_xor(lst):\n",
        "    bool_value = not(lst[0] == lst[1])\n",
        "    for i in range(2,len(lst)):\n",
        "        bool_value = not(bool_value == lst[i])\n",
        "    print(bool_value)\n",
        "\n",
        "boolean_and([True, True, False, True])\n",
        "boolean_or([True, True, False, False])\n",
        "boolean_xor([True, True, False, False])"
      ],
      "metadata": {
        "colab": {
          "base_uri": "https://localhost:8080/"
        },
        "id": "3oGu3Zi4cdF0",
        "outputId": "d4b91540-86d4-4e0c-ac0a-452d9b083489"
      },
      "execution_count": 2,
      "outputs": [
        {
          "output_type": "stream",
          "name": "stdout",
          "text": [
            "False\n",
            "True\n",
            "False\n"
          ]
        }
      ]
    },
    {
      "cell_type": "markdown",
      "source": [
        "Q3. Create a function that creates a box based on dimension n.\n",
        "Examples\n",
        "\n",
        "make_box(5) ➞ [\n",
        "&quot;#####&quot;,\n",
        "&quot;# #&quot;,\n",
        "&quot;# #&quot;,\n",
        "&quot;# #&quot;,\n",
        "&quot;#####&quot;\n",
        "]\n",
        "\n",
        "make_box(3) ➞ [\n",
        "&quot;###&quot;,\n",
        "&quot;# #&quot;,\n",
        "&quot;###&quot;\n",
        "]\n",
        "\n",
        "make_box(2) ➞ [\n",
        "&quot;##&quot;,\n",
        "&quot;##&quot;\n",
        "]\n",
        "\n",
        "make_box(1) ➞ [\n",
        "&quot;#&quot;\n",
        "]"
      ],
      "metadata": {
        "id": "YtSxVQOBgkyP"
      }
    },
    {
      "cell_type": "code",
      "source": [
        "def make_box(side):\n",
        "    lst = []\n",
        "    for i in range(side):\n",
        "        if i == 0 or i == side-1:\n",
        "            lst.append('#'*side)\n",
        "        else:\n",
        "            lst.append('#'+' '*(side-2)+'#')\n",
        "    print(lst)\n",
        "\n",
        "make_box(5)\n",
        "make_box(3)\n",
        "make_box(2)\n",
        "make_box(1)"
      ],
      "metadata": {
        "colab": {
          "base_uri": "https://localhost:8080/"
        },
        "id": "GlK5e63JgndO",
        "outputId": "cff70ce3-b896-4816-f2ae-07d875c2e0f3"
      },
      "execution_count": 3,
      "outputs": [
        {
          "output_type": "stream",
          "name": "stdout",
          "text": [
            "['#####', '#   #', '#   #', '#   #', '#####']\n",
            "['###', '# #', '###']\n",
            "['##', '##']\n",
            "['#']\n"
          ]
        }
      ]
    },
    {
      "cell_type": "markdown",
      "source": [
        "Q4. Given a common phrase, return False if any individual word in the phrase\n",
        "contains duplicate letters. Return True otherwise.\n",
        "\n",
        "Examples\n",
        "\n",
        "no_duplicate_letters(&quot;Fortune favours the bold.&quot;) ➞ True\n",
        "\n",
        "no_duplicate_letters(&quot;You can lead a horse to water, but you can&#39;t make him\n",
        "drink.&quot;) ➞ True\n",
        "\n",
        "no_duplicate_letters(&quot;Look before you leap.&quot;) ➞ False\n",
        "\n",
        " Duplicate letters in &quot;Look&quot; and &quot;before&quot;.\n",
        "\n",
        "no_duplicate_letters(&quot;An apple a day keeps the doctor away.&quot;) ➞ False\n",
        "\n",
        " Duplicate letters in &quot;apple&quot;, &quot;keeps&quot;, &quot;doctor&quot;, and &quot;away&quot;."
      ],
      "metadata": {
        "id": "JtgnB0YlhMEP"
      }
    },
    {
      "cell_type": "code",
      "source": [
        "def no_duplicate_letters(string):\n",
        "    lst = string.split()\n",
        "    for i in lst:\n",
        "        dup = []\n",
        "        for j in i:\n",
        "            if j in dup:\n",
        "                print(False)\n",
        "                return\n",
        "            else:\n",
        "                dup.append(j)\n",
        "    print(True)\n",
        "\n",
        "no_duplicate_letters(\"Fortune favours the bold.\")\n",
        "no_duplicate_letters(\"You can lead a horse to water, but you can't make him drink.\")\n",
        "no_duplicate_letters(\"Look before you leap.\")\n",
        "no_duplicate_letters(\"An apple a day keeps the doctor away.\")"
      ],
      "metadata": {
        "colab": {
          "base_uri": "https://localhost:8080/"
        },
        "id": "R3Q_h2OrhQ0H",
        "outputId": "2a972208-63a3-4ec9-985e-01eb33752b14"
      },
      "execution_count": 4,
      "outputs": [
        {
          "output_type": "stream",
          "name": "stdout",
          "text": [
            "True\n",
            "True\n",
            "False\n",
            "False\n"
          ]
        }
      ]
    },
    {
      "cell_type": "markdown",
      "source": [
        "Q5. Write a regular expression that will match the states that voted yes to\n",
        "President Trump&#39;s impeachment. You must use RegEx positive lookahead.\n",
        "\n",
        "Example\n",
        "\n",
        "txt = &quot;Texas = no, California = yes, Florida = yes, Michigan = no&quot;\n",
        "\n",
        "pattern = &quot;yourregularexpressionhere&quot;\n",
        "\n",
        "re.findall(pattern, txt) ➞ [&quot;California&quot;, &quot;Florida&quot;]"
      ],
      "metadata": {
        "id": "VB2cP1nViRQ_"
      }
    },
    {
      "cell_type": "code",
      "source": [
        "import re\n",
        "txt = \"Texas = no, California = yes, Florida = yes, Michigan = no\"\n",
        "pattern = '[A-za-z]+(?= = yes)'\n",
        "re.findall(pattern,txt)"
      ],
      "metadata": {
        "colab": {
          "base_uri": "https://localhost:8080/"
        },
        "id": "3CEtNTYmiWpN",
        "outputId": "486e6a3e-2be0-4774-b41e-eeb4a421b1a7"
      },
      "execution_count": 5,
      "outputs": [
        {
          "output_type": "execute_result",
          "data": {
            "text/plain": [
              "['California', 'Florida']"
            ]
          },
          "metadata": {},
          "execution_count": 5
        }
      ]
    }
  ]
}