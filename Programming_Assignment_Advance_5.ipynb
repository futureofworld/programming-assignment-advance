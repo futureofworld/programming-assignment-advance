{
  "nbformat": 4,
  "nbformat_minor": 0,
  "metadata": {
    "colab": {
      "name": "Programming_Assignment_Advance_5.ipynb",
      "provenance": [],
      "authorship_tag": "ABX9TyPYmnX3gamdXskRC/n20c3W"
    },
    "kernelspec": {
      "name": "python3",
      "display_name": "Python 3"
    },
    "language_info": {
      "name": "python"
    }
  },
  "cells": [
    {
      "cell_type": "markdown",
      "source": [
        "Q1. Create a function that takes a number n (integer greater than zero) as an\n",
        "argument, and returns 2 if n is odd and 8 if n is even.\n",
        "You can only use the following arithmetic operators: addition of numbers +,\n",
        "subtraction of numbers -, multiplication of number *, division of number /, and\n",
        "exponentiation **.\n",
        "You are not allowed to use any other methods in this challenge (i.e. no if\n",
        "statements, comparison operators, etc).\n",
        "\n",
        "Examples\n",
        "\n",
        "f(1) ➞ 2\n",
        "\n",
        "f(2) ➞ 8\n",
        "\n",
        "f(3) ➞ 2"
      ],
      "metadata": {
        "id": "wABGJJx6vU8C"
      }
    },
    {
      "cell_type": "code",
      "execution_count": 1,
      "metadata": {
        "id": "K39vwdBjvUHC",
        "colab": {
          "base_uri": "https://localhost:8080/"
        },
        "outputId": "1ac83c7b-86e0-475e-907f-7eba7f85c05e"
      },
      "outputs": [
        {
          "output_type": "stream",
          "name": "stdout",
          "text": [
            "2\n",
            "8\n",
            "2\n"
          ]
        }
      ],
      "source": [
        "def f(num):\n",
        "    lst = [8, 2]\n",
        "    return lst[num%2]\n",
        "\n",
        "print(f(1))\n",
        "print(f(2))\n",
        "print(f(3))"
      ]
    },
    {
      "cell_type": "markdown",
      "source": [
        "Q2. Create a function that returns the majority vote in a list. A majority vote is\n",
        "an element that occurs &gt; N/2 times in a list (where N is the length of the list).\n",
        "\n",
        "Examples\n",
        "\n",
        "majority_vote([&quot;A&quot;, &quot;A&quot;, &quot;B&quot;]) ➞ &quot;A&quot;\n",
        "\n",
        "majority_vote([&quot;A&quot;, &quot;A&quot;, &quot;A&quot;, &quot;B&quot;, &quot;C&quot;, &quot;A&quot;]) ➞ &quot;A&quot;\n",
        "\n",
        "majority_vote([&quot;A&quot;, &quot;B&quot;, &quot;B&quot;, &quot;A&quot;, &quot;C&quot;, &quot;C&quot;]) ➞ None"
      ],
      "metadata": {
        "id": "KEkHizgtwObg"
      }
    },
    {
      "cell_type": "code",
      "source": [
        "def majority_vote(lst):\n",
        "    dic = {}\n",
        "    for i in lst:\n",
        "        if i in dic:\n",
        "            dic[i] += 1\n",
        "        else:\n",
        "            dic[i] = 1\n",
        "    maximum = max(dic, key=dic.get)\n",
        "    max_value = max(dic.values())\n",
        "    if max_value >= len(lst)/2:\n",
        "        print(maximum)\n",
        "    else:\n",
        "        print(\"None\")\n",
        "\n",
        "majority_vote([\"A\", \"A\", \"B\"])\n",
        "majority_vote([\"A\", \"A\", \"A\", \"B\", \"C\", \"A\"])\n",
        "majority_vote([\"A\", \"B\", \"B\", \"A\", \"C\", \"C\"])"
      ],
      "metadata": {
        "colab": {
          "base_uri": "https://localhost:8080/"
        },
        "id": "I1odgKPrwRwX",
        "outputId": "6f243948-b097-4ee8-9441-b320c1df325f"
      },
      "execution_count": 2,
      "outputs": [
        {
          "output_type": "stream",
          "name": "stdout",
          "text": [
            "A\n",
            "A\n",
            "None\n"
          ]
        }
      ]
    },
    {
      "cell_type": "markdown",
      "source": [
        "Q3. Create a function that takes a string txt and censors any word from a given\n",
        "list lst. The text removed must be replaced by the given character char.\n",
        "\n",
        "Examples\n",
        "\n",
        "censor_string(&quot;Today is a Wednesday!&quot;, [&quot;Today&quot;, &quot;a&quot;], &quot;-&quot;) ➞ &quot;----- is -\n",
        "Wednesday!&quot;\n",
        "\n",
        "censor_string(&quot;The cow jumped over the moon.&quot;, [&quot;cow&quot;, &quot;over&quot;], &quot;* &quot;), &quot;The ***\n",
        "jumped **** the moon.&quot;)\n",
        "\n",
        "censor_string(&quot;Why did the chicken cross the road?&quot;, [&quot;Did&quot;, &quot;chicken&quot;,\n",
        "&quot;road&quot;], &quot;*&quot;) ➞ &quot;Why *** the ******* cross the ****?&quot;"
      ],
      "metadata": {
        "id": "GcWvJAXayGxA"
      }
    },
    {
      "cell_type": "code",
      "source": [
        "def censor_string(sen, lst, censor):\n",
        "    for i in sen.split():\n",
        "        if i in lst:\n",
        "            for j in i:\n",
        "                sen = sen.replace(j,censor,1)\n",
        "\n",
        "    print(sen)\n",
        "\n",
        "censor_string('Today is a Wednesday!', ['Today','a'], '-')\n",
        "censor_string(\"The cow jumped over the moon.\", [\"cow\", \"over\"], \"*\")\n",
        "censor_string(\"Why did the chicken cross the road?\", [\"Did\", \"chicken\", \"road\"], \"\")"
      ],
      "metadata": {
        "colab": {
          "base_uri": "https://localhost:8080/"
        },
        "id": "lb39P_cfyKX3",
        "outputId": "a480a012-b305-4c70-9849-03cc7086f62a"
      },
      "execution_count": 3,
      "outputs": [
        {
          "output_type": "stream",
          "name": "stdout",
          "text": [
            "----- is - Wednesday!\n",
            "Th* *** jumped **e* the moon.\n",
            "Wy dd th hie cross the road?\n"
          ]
        }
      ]
    },
    {
      "cell_type": "markdown",
      "source": [
        "Q4. In mathematics a Polydivisible Number (or magic number) is a number in a\n",
        "given number base with digits abcde... that has the following properties:\n",
        "- Its first digit a is not 0.\n",
        "- The number formed by its first two digits ab is a multiple of 2.\n",
        "- The number formed by its first three digits abc is a multiple of 3.\n",
        "- The number formed by its first four digits abcd is a multiple of 4.\n",
        "\n",
        "Create a function which takes an integer n and returns True if the given\n",
        "number is a Polydivisible Number and False otherwise.\n",
        "Examples\n",
        "is_polydivisible(1232) ➞ True\n",
        "\n",
        "1 / 1 = 1\n",
        "\n",
        "12 / 2 = 6\n",
        "\n",
        "123 / 3 = 41\n",
        "\n",
        "1232 / 4 = 308\n",
        "\n",
        "is_polydivisible(123220 ) ➞ False\n",
        "\n",
        " 1 / 1 = 1\n",
        "\n",
        " 12 / 2 = 6\n",
        "\n",
        " 123 / 3 = 41\n",
        "\n",
        "1232 / 4 = 308\n",
        "\n",
        "12322 / 5 = 2464.4 # Not a Whole Number\n",
        "\n",
        " 123220 /6 = 220536.333... # Not a Whole Number\n"
      ],
      "metadata": {
        "id": "8XVjpFXYzWzG"
      }
    },
    {
      "cell_type": "code",
      "source": [
        "def is_polydivisible(num):\n",
        "    num = str(num)\n",
        "    for i in range(len(num)):\n",
        "        if (int(num[0:i+1]))%(i+1) != 0:\n",
        "            return False\n",
        "    return True\n",
        "    \n",
        "print(is_polydivisible(1232))\n",
        "print(is_polydivisible(123220))"
      ],
      "metadata": {
        "colab": {
          "base_uri": "https://localhost:8080/"
        },
        "id": "j2TprGGyzktN",
        "outputId": "a3c84d77-b7b7-4685-9b60-d7722b5ddde1"
      },
      "execution_count": 4,
      "outputs": [
        {
          "output_type": "stream",
          "name": "stdout",
          "text": [
            "True\n",
            "False\n"
          ]
        }
      ]
    },
    {
      "cell_type": "markdown",
      "source": [
        "Q5. Create a function that takes a list of numbers and returns the sum of all\n",
        "prime numbers in the list.\n",
        "\n",
        "Examples\n",
        "\n",
        "sum_primes([1, 2, 3, 4, 5, 6, 7, 8, 9, 10]) ➞ 17\n",
        "\n",
        "sum_primes([2, 3, 4, 11, 20, 50, 71]) ➞ 87\n",
        "\n",
        "sum_primes([]) ➞ None"
      ],
      "metadata": {
        "id": "o1pUN3Ht2QJp"
      }
    },
    {
      "cell_type": "code",
      "source": [
        "def isPrime(n):\n",
        "    if n <= 1: \n",
        "        return False\n",
        "    for i in range(2, n):\n",
        "        if n % i == 0:\n",
        "            return False\n",
        "    return True\n",
        "\n",
        "def sum_primes(lst):\n",
        "    sum = 0\n",
        "    for i in lst:\n",
        "        if isPrime(i) == True:\n",
        "            sum += i\n",
        "    print(sum)\n",
        "\n",
        "sum_primes([1,2,3,4,5,6,7,8,9,10])\n",
        "sum_primes([2, 3, 4, 11, 20, 50, 71])\n",
        "sum_primes([])"
      ],
      "metadata": {
        "colab": {
          "base_uri": "https://localhost:8080/"
        },
        "id": "HkWBW5q52Smq",
        "outputId": "5be510df-4505-4d4b-b029-2cb96fb9efe6"
      },
      "execution_count": 5,
      "outputs": [
        {
          "output_type": "stream",
          "name": "stdout",
          "text": [
            "17\n",
            "87\n",
            "0\n"
          ]
        }
      ]
    }
  ]
}